{
 "cells": [
  {
   "cell_type": "code",
   "execution_count": 68,
   "id": "77579a97-839c-4367-8858-e1118e5a4ea6",
   "metadata": {},
   "outputs": [],
   "source": [
    "import pandas as pd\n",
    "import numpy as np\n",
    "\n",
    "import seaborn as sns\n",
    "import matplotlib.pyplot as plt\n",
    "%matplotlib inline\n",
    "\n",
    "from sklearn.preprocessing import OrdinalEncoder, OneHotEncoder\n",
    "\n",
    "from sklearn.impute import SimpleImputer\n",
    "\n",
    "from sklearn.compose import make_column_transformer\n",
    "from sklearn.pipeline import Pipeline, make_pipeline\n",
    "\n",
    "from sklearn.linear_model import LogisticRegression\n",
    "from sklearn.svm import SVC\n",
    "from sklearn.ensemble import RandomForestClassifier\n",
    "from sklearn.tree import DecisionTreeClassifier\n",
    "from sklearn.neighbors import KNeighborsClassifier\n",
    "from sklearn.naive_bayes import GaussianNB\n",
    "\n",
    "from sklearn.model_selection import cross_val_score, StratifiedKFold, train_test_split"
   ]
  },
  {
   "cell_type": "code",
   "execution_count": 69,
   "id": "81794b01-d48f-4a5f-bb2f-70327c6e9f49",
   "metadata": {},
   "outputs": [],
   "source": [
    "train_data = pd.read_csv(r\"C:\\Users\\Samira\\Sumeyra\\btk-akademi\\Titanic-Survival-Analysis\\Dataset\\train.csv\")\n",
    "test_data = pd.read_csv(r\"C:\\Users\\Samira\\Sumeyra\\btk-akademi\\Titanic-Survival-Analysis\\Dataset\\test.csv\")"
   ]
  },
  {
   "cell_type": "code",
   "execution_count": 70,
   "id": "166d40e4-05e9-495c-84ff-0d785ca9c6fb",
   "metadata": {},
   "outputs": [
    {
     "data": {
      "text/html": [
       "<div>\n",
       "<style scoped>\n",
       "    .dataframe tbody tr th:only-of-type {\n",
       "        vertical-align: middle;\n",
       "    }\n",
       "\n",
       "    .dataframe tbody tr th {\n",
       "        vertical-align: top;\n",
       "    }\n",
       "\n",
       "    .dataframe thead th {\n",
       "        text-align: right;\n",
       "    }\n",
       "</style>\n",
       "<table border=\"1\" class=\"dataframe\">\n",
       "  <thead>\n",
       "    <tr style=\"text-align: right;\">\n",
       "      <th></th>\n",
       "      <th>PassengerId</th>\n",
       "      <th>Survived</th>\n",
       "      <th>Pclass</th>\n",
       "      <th>Name</th>\n",
       "      <th>Sex</th>\n",
       "      <th>Age</th>\n",
       "      <th>SibSp</th>\n",
       "      <th>Parch</th>\n",
       "      <th>Ticket</th>\n",
       "      <th>Fare</th>\n",
       "      <th>Cabin</th>\n",
       "      <th>Embarked</th>\n",
       "    </tr>\n",
       "  </thead>\n",
       "  <tbody>\n",
       "    <tr>\n",
       "      <th>0</th>\n",
       "      <td>1</td>\n",
       "      <td>0</td>\n",
       "      <td>3</td>\n",
       "      <td>Braund, Mr. Owen Harris</td>\n",
       "      <td>male</td>\n",
       "      <td>22.0</td>\n",
       "      <td>1</td>\n",
       "      <td>0</td>\n",
       "      <td>A/5 21171</td>\n",
       "      <td>7.2500</td>\n",
       "      <td>NaN</td>\n",
       "      <td>S</td>\n",
       "    </tr>\n",
       "    <tr>\n",
       "      <th>1</th>\n",
       "      <td>2</td>\n",
       "      <td>1</td>\n",
       "      <td>1</td>\n",
       "      <td>Cumings, Mrs. John Bradley (Florence Briggs Th...</td>\n",
       "      <td>female</td>\n",
       "      <td>38.0</td>\n",
       "      <td>1</td>\n",
       "      <td>0</td>\n",
       "      <td>PC 17599</td>\n",
       "      <td>71.2833</td>\n",
       "      <td>C85</td>\n",
       "      <td>C</td>\n",
       "    </tr>\n",
       "    <tr>\n",
       "      <th>2</th>\n",
       "      <td>3</td>\n",
       "      <td>1</td>\n",
       "      <td>3</td>\n",
       "      <td>Heikkinen, Miss. Laina</td>\n",
       "      <td>female</td>\n",
       "      <td>26.0</td>\n",
       "      <td>0</td>\n",
       "      <td>0</td>\n",
       "      <td>STON/O2. 3101282</td>\n",
       "      <td>7.9250</td>\n",
       "      <td>NaN</td>\n",
       "      <td>S</td>\n",
       "    </tr>\n",
       "    <tr>\n",
       "      <th>3</th>\n",
       "      <td>4</td>\n",
       "      <td>1</td>\n",
       "      <td>1</td>\n",
       "      <td>Futrelle, Mrs. Jacques Heath (Lily May Peel)</td>\n",
       "      <td>female</td>\n",
       "      <td>35.0</td>\n",
       "      <td>1</td>\n",
       "      <td>0</td>\n",
       "      <td>113803</td>\n",
       "      <td>53.1000</td>\n",
       "      <td>C123</td>\n",
       "      <td>S</td>\n",
       "    </tr>\n",
       "    <tr>\n",
       "      <th>4</th>\n",
       "      <td>5</td>\n",
       "      <td>0</td>\n",
       "      <td>3</td>\n",
       "      <td>Allen, Mr. William Henry</td>\n",
       "      <td>male</td>\n",
       "      <td>35.0</td>\n",
       "      <td>0</td>\n",
       "      <td>0</td>\n",
       "      <td>373450</td>\n",
       "      <td>8.0500</td>\n",
       "      <td>NaN</td>\n",
       "      <td>S</td>\n",
       "    </tr>\n",
       "  </tbody>\n",
       "</table>\n",
       "</div>"
      ],
      "text/plain": [
       "   PassengerId  Survived  Pclass  \\\n",
       "0            1         0       3   \n",
       "1            2         1       1   \n",
       "2            3         1       3   \n",
       "3            4         1       1   \n",
       "4            5         0       3   \n",
       "\n",
       "                                                Name     Sex   Age  SibSp  \\\n",
       "0                            Braund, Mr. Owen Harris    male  22.0      1   \n",
       "1  Cumings, Mrs. John Bradley (Florence Briggs Th...  female  38.0      1   \n",
       "2                             Heikkinen, Miss. Laina  female  26.0      0   \n",
       "3       Futrelle, Mrs. Jacques Heath (Lily May Peel)  female  35.0      1   \n",
       "4                           Allen, Mr. William Henry    male  35.0      0   \n",
       "\n",
       "   Parch            Ticket     Fare Cabin Embarked  \n",
       "0      0         A/5 21171   7.2500   NaN        S  \n",
       "1      0          PC 17599  71.2833   C85        C  \n",
       "2      0  STON/O2. 3101282   7.9250   NaN        S  \n",
       "3      0            113803  53.1000  C123        S  \n",
       "4      0            373450   8.0500   NaN        S  "
      ]
     },
     "execution_count": 70,
     "metadata": {},
     "output_type": "execute_result"
    }
   ],
   "source": [
    "train_data.head()"
   ]
  },
  {
   "cell_type": "code",
   "execution_count": 71,
   "id": "27556d89-a535-41cb-bc68-55f20603ede6",
   "metadata": {},
   "outputs": [
    {
     "data": {
      "text/html": [
       "<div>\n",
       "<style scoped>\n",
       "    .dataframe tbody tr th:only-of-type {\n",
       "        vertical-align: middle;\n",
       "    }\n",
       "\n",
       "    .dataframe tbody tr th {\n",
       "        vertical-align: top;\n",
       "    }\n",
       "\n",
       "    .dataframe thead th {\n",
       "        text-align: right;\n",
       "    }\n",
       "</style>\n",
       "<table border=\"1\" class=\"dataframe\">\n",
       "  <thead>\n",
       "    <tr style=\"text-align: right;\">\n",
       "      <th></th>\n",
       "      <th>PassengerId</th>\n",
       "      <th>Pclass</th>\n",
       "      <th>Name</th>\n",
       "      <th>Sex</th>\n",
       "      <th>Age</th>\n",
       "      <th>SibSp</th>\n",
       "      <th>Parch</th>\n",
       "      <th>Ticket</th>\n",
       "      <th>Fare</th>\n",
       "      <th>Cabin</th>\n",
       "      <th>Embarked</th>\n",
       "    </tr>\n",
       "  </thead>\n",
       "  <tbody>\n",
       "    <tr>\n",
       "      <th>0</th>\n",
       "      <td>892</td>\n",
       "      <td>3</td>\n",
       "      <td>Kelly, Mr. James</td>\n",
       "      <td>male</td>\n",
       "      <td>34.5</td>\n",
       "      <td>0</td>\n",
       "      <td>0</td>\n",
       "      <td>330911</td>\n",
       "      <td>7.8292</td>\n",
       "      <td>NaN</td>\n",
       "      <td>Q</td>\n",
       "    </tr>\n",
       "    <tr>\n",
       "      <th>1</th>\n",
       "      <td>893</td>\n",
       "      <td>3</td>\n",
       "      <td>Wilkes, Mrs. James (Ellen Needs)</td>\n",
       "      <td>female</td>\n",
       "      <td>47.0</td>\n",
       "      <td>1</td>\n",
       "      <td>0</td>\n",
       "      <td>363272</td>\n",
       "      <td>7.0000</td>\n",
       "      <td>NaN</td>\n",
       "      <td>S</td>\n",
       "    </tr>\n",
       "    <tr>\n",
       "      <th>2</th>\n",
       "      <td>894</td>\n",
       "      <td>2</td>\n",
       "      <td>Myles, Mr. Thomas Francis</td>\n",
       "      <td>male</td>\n",
       "      <td>62.0</td>\n",
       "      <td>0</td>\n",
       "      <td>0</td>\n",
       "      <td>240276</td>\n",
       "      <td>9.6875</td>\n",
       "      <td>NaN</td>\n",
       "      <td>Q</td>\n",
       "    </tr>\n",
       "    <tr>\n",
       "      <th>3</th>\n",
       "      <td>895</td>\n",
       "      <td>3</td>\n",
       "      <td>Wirz, Mr. Albert</td>\n",
       "      <td>male</td>\n",
       "      <td>27.0</td>\n",
       "      <td>0</td>\n",
       "      <td>0</td>\n",
       "      <td>315154</td>\n",
       "      <td>8.6625</td>\n",
       "      <td>NaN</td>\n",
       "      <td>S</td>\n",
       "    </tr>\n",
       "    <tr>\n",
       "      <th>4</th>\n",
       "      <td>896</td>\n",
       "      <td>3</td>\n",
       "      <td>Hirvonen, Mrs. Alexander (Helga E Lindqvist)</td>\n",
       "      <td>female</td>\n",
       "      <td>22.0</td>\n",
       "      <td>1</td>\n",
       "      <td>1</td>\n",
       "      <td>3101298</td>\n",
       "      <td>12.2875</td>\n",
       "      <td>NaN</td>\n",
       "      <td>S</td>\n",
       "    </tr>\n",
       "  </tbody>\n",
       "</table>\n",
       "</div>"
      ],
      "text/plain": [
       "   PassengerId  Pclass                                          Name     Sex  \\\n",
       "0          892       3                              Kelly, Mr. James    male   \n",
       "1          893       3              Wilkes, Mrs. James (Ellen Needs)  female   \n",
       "2          894       2                     Myles, Mr. Thomas Francis    male   \n",
       "3          895       3                              Wirz, Mr. Albert    male   \n",
       "4          896       3  Hirvonen, Mrs. Alexander (Helga E Lindqvist)  female   \n",
       "\n",
       "    Age  SibSp  Parch   Ticket     Fare Cabin Embarked  \n",
       "0  34.5      0      0   330911   7.8292   NaN        Q  \n",
       "1  47.0      1      0   363272   7.0000   NaN        S  \n",
       "2  62.0      0      0   240276   9.6875   NaN        Q  \n",
       "3  27.0      0      0   315154   8.6625   NaN        S  \n",
       "4  22.0      1      1  3101298  12.2875   NaN        S  "
      ]
     },
     "execution_count": 71,
     "metadata": {},
     "output_type": "execute_result"
    }
   ],
   "source": [
    "test_data.head()"
   ]
  },
  {
   "cell_type": "code",
   "execution_count": 72,
   "id": "8ed6a5dd-0675-4518-bcab-f151cfee98d4",
   "metadata": {},
   "outputs": [
    {
     "name": "stdout",
     "output_type": "stream",
     "text": [
      "<class 'pandas.core.frame.DataFrame'>\n",
      "RangeIndex: 891 entries, 0 to 890\n",
      "Data columns (total 12 columns):\n",
      " #   Column       Non-Null Count  Dtype  \n",
      "---  ------       --------------  -----  \n",
      " 0   PassengerId  891 non-null    int64  \n",
      " 1   Survived     891 non-null    int64  \n",
      " 2   Pclass       891 non-null    int64  \n",
      " 3   Name         891 non-null    object \n",
      " 4   Sex          891 non-null    object \n",
      " 5   Age          714 non-null    float64\n",
      " 6   SibSp        891 non-null    int64  \n",
      " 7   Parch        891 non-null    int64  \n",
      " 8   Ticket       891 non-null    object \n",
      " 9   Fare         891 non-null    float64\n",
      " 10  Cabin        204 non-null    object \n",
      " 11  Embarked     889 non-null    object \n",
      "dtypes: float64(2), int64(5), object(5)\n",
      "memory usage: 83.7+ KB\n"
     ]
    }
   ],
   "source": [
    "train_data.info()"
   ]
  },
  {
   "cell_type": "code",
   "execution_count": 73,
   "id": "2733a959-ce20-492c-98b9-3279521ed1d3",
   "metadata": {},
   "outputs": [
    {
     "name": "stdout",
     "output_type": "stream",
     "text": [
      "             Total_Missing  Percent_Missing\n",
      "Cabin                  687            77.10\n",
      "Age                    177            19.87\n",
      "Embarked                 2             0.22\n",
      "PassengerId              0             0.00\n",
      "Survived                 0             0.00\n",
      "Pclass                   0             0.00\n",
      "Name                     0             0.00\n",
      "Sex                      0             0.00\n",
      "SibSp                    0             0.00\n",
      "Parch                    0             0.00\n",
      "Ticket                   0             0.00\n",
      "Fare                     0             0.00\n"
     ]
    }
   ],
   "source": [
    "missing_stats = (\n",
    "    train_data.isnull()\n",
    "    .sum()\n",
    "    .to_frame(name='Total_Missing')  # Toplam eksik değerler sütunu\n",
    "    .assign(Percent_Missing=lambda df: (df['Total_Missing'] / len(train_data) * 100).round(2))  # Yüzde eksik değerler\n",
    "    .sort_values(by='Percent_Missing', ascending=False)  # Yüzdelere göre sıralama\n",
    ")\n",
    "\n",
    "# Sonuçları yazdır\n",
    "print(missing_stats)"
   ]
  },
  {
   "cell_type": "code",
   "execution_count": 74,
   "id": "74b73921-15f0-4698-877c-02924f0d1661",
   "metadata": {},
   "outputs": [
    {
     "data": {
      "image/png": "[encoded data removed]",
      "text/plain": [
       "<Figure size 1200x600 with 2 Axes>"
      ]
     },
     "metadata": {},
     "output_type": "display_data"
    }
   ],
   "source": [
    "import seaborn as sns\n",
    "import matplotlib.pyplot as plt\n",
    "\n",
    "# Eksik değerleri görselleştirmek için seaborn heatmap kullanımı\n",
    "plt.figure(figsize=(12, 6))  \n",
    "sns.heatmap(\n",
    "    train_data.isnull().T,       \n",
    "    cmap='ocean',             \n",
    "    cbar_kws={'label': 'Missing Values'}\n",
    ")\n",
    "plt.title('Missing Values in Titanic Dataset')  \n",
    "plt.tight_layout() \n",
    "plt.show()"
   ]
  },
  {
   "cell_type": "code",
   "execution_count": 75,
   "id": "8cd86dc1-9cb0-4087-84d3-42f3879b08af",
   "metadata": {},
   "outputs": [
    {
     "name": "stdout",
     "output_type": "stream",
     "text": [
      "<class 'pandas.core.frame.DataFrame'>\n",
      "RangeIndex: 418 entries, 0 to 417\n",
      "Data columns (total 11 columns):\n",
      " #   Column       Non-Null Count  Dtype  \n",
      "---  ------       --------------  -----  \n",
      " 0   PassengerId  418 non-null    int64  \n",
      " 1   Pclass       418 non-null    int64  \n",
      " 2   Name         418 non-null    object \n",
      " 3   Sex          418 non-null    object \n",
      " 4   Age          332 non-null    float64\n",
      " 5   SibSp        418 non-null    int64  \n",
      " 6   Parch        418 non-null    int64  \n",
      " 7   Ticket       418 non-null    object \n",
      " 8   Fare         417 non-null    float64\n",
      " 9   Cabin        91 non-null     object \n",
      " 10  Embarked     418 non-null    object \n",
      "dtypes: float64(2), int64(4), object(5)\n",
      "memory usage: 36.0+ KB\n"
     ]
    }
   ],
   "source": [
    "test_data.info()"
   ]
  },
  {
   "cell_type": "code",
   "execution_count": 76,
   "id": "ed5229bf-1ad1-40c5-a940-c8a0498354f4",
   "metadata": {},
   "outputs": [
    {
     "name": "stdout",
     "output_type": "stream",
     "text": [
      "             Total_Missing  Percent_Missing\n",
      "Cabin                  327            78.23\n",
      "Age                     86            20.57\n",
      "Fare                     1             0.24\n",
      "PassengerId              0             0.00\n",
      "Pclass                   0             0.00\n",
      "Name                     0             0.00\n",
      "Sex                      0             0.00\n",
      "SibSp                    0             0.00\n",
      "Parch                    0             0.00\n",
      "Ticket                   0             0.00\n",
      "Embarked                 0             0.00\n"
     ]
    }
   ],
   "source": [
    "missing_stats = (\n",
    "    test_data.isnull()\n",
    "    .sum()\n",
    "    .to_frame(name='Total_Missing')  # Toplam eksik değerler sütunu\n",
    "    .assign(Percent_Missing=lambda df: (df['Total_Missing'] / len(test_data) * 100).round(2))  # Yüzde eksik değerler\n",
    "    .sort_values(by='Percent_Missing', ascending=False)  # Yüzdelere göre sıralama\n",
    ")\n",
    "\n",
    "# Sonuçları yazdır\n",
    "print(missing_stats)"
   ]
  },
  {
   "cell_type": "code",
   "execution_count": 77,
   "id": "5067361d-5daa-4643-88d9-e24690af9ac8",
   "metadata": {},
   "outputs": [
    {
     "data": {
      "image/png": "[encoded data removed]",
      "text/plain": [
       "<Figure size 1200x600 with 2 Axes>"
      ]
     },
     "metadata": {},
     "output_type": "display_data"
    }
   ],
   "source": [
    "import seaborn as sns\n",
    "import matplotlib.pyplot as plt\n",
    "\n",
    "# Eksik değerleri görselleştirmek için seaborn heatmap kullanımı\n",
    "plt.figure(figsize=(12, 6))  \n",
    "sns.heatmap(\n",
    "    test_data.isnull().T,       \n",
    "    cmap='ocean',             \n",
    "    cbar_kws={'label': 'Missing Values'}\n",
    ")\n",
    "plt.title('Missing Values in Titanic Dataset')  \n",
    "plt.tight_layout() \n",
    "plt.show()"
   ]
  },
  {
   "cell_type": "code",
   "execution_count": 78,
   "id": "d4300322-7621-4dd6-914e-1153fa2cef06",
   "metadata": {},
   "outputs": [
    {
     "name": "stdout",
     "output_type": "stream",
     "text": [
      "Categorical Columns Overview:\n",
      "\n",
      "Column: Name\n",
      "- Total Unique Values: 891\n",
      "- Unique Values: Braund, Mr. Owen Harris, Cumings, Mrs. John Bradley (Florence Briggs Thayer), Heikkinen, Miss. Laina, Futrelle, Mrs. Jacques Heath (Lily May Peel), Allen, Mr. William Henry, Moran, Mr. James, McCarthy, Mr. Timothy J, Palsson, Master. Gosta Leonard, Johnson, Mrs. Oscar W (Elisabeth Vilhelmina Berg), Nasser, Mrs. Nicholas (Adele Achem)...\n",
      "\n",
      "Column: Sex\n",
      "- Total Unique Values: 2\n",
      "- Unique Values: male, female\n",
      "\n",
      "Column: Ticket\n",
      "- Total Unique Values: 681\n",
      "- Unique Values: A/5 21171, PC 17599, STON/O2. 3101282, 113803, 373450, 330877, 17463, 349909, 347742, 237736...\n",
      "\n",
      "Column: Cabin\n",
      "- Total Unique Values: 147\n",
      "- Unique Values: nan, C85, C123, E46, G6, C103, D56, A6, C23 C25 C27, B78...\n",
      "\n",
      "Column: Embarked\n",
      "- Total Unique Values: 3\n",
      "- Unique Values: S, C, Q, nan\n"
     ]
    }
   ],
   "source": [
    "categorical_columns = train_data.select_dtypes(include=['category', 'bool', 'object']).columns\n",
    "\n",
    "# Display an overview of categorical columns\n",
    "print(\"Categorical Columns Overview:\")\n",
    "\n",
    "for column in categorical_columns:\n",
    "    # Get unique count and unique values for the column\n",
    "    unique_count = train_data[column].nunique()\n",
    "    unique_values = train_data[column].unique()\n",
    "    \n",
    "    # Print the summary for the column\n",
    "    print(f\"\\nColumn: {column}\")\n",
    "    print(f\"- Total Unique Values: {unique_count}\")\n",
    "    print(\"- Unique Values:\", ', '.join(map(str, unique_values[:10])) +\n",
    "          (\"...\" if unique_count > 10 else \"\"))"
   ]
  },
  {
   "cell_type": "code",
   "execution_count": 79,
   "id": "bfcda336-5660-477c-9951-9561a073f6ae",
   "metadata": {},
   "outputs": [
    {
     "data": {
      "text/html": [
       "<div>\n",
       "<style scoped>\n",
       "    .dataframe tbody tr th:only-of-type {\n",
       "        vertical-align: middle;\n",
       "    }\n",
       "\n",
       "    .dataframe tbody tr th {\n",
       "        vertical-align: top;\n",
       "    }\n",
       "\n",
       "    .dataframe thead th {\n",
       "        text-align: right;\n",
       "    }\n",
       "</style>\n",
       "<table border=\"1\" class=\"dataframe\">\n",
       "  <thead>\n",
       "    <tr style=\"text-align: right;\">\n",
       "      <th></th>\n",
       "      <th>PassengerId</th>\n",
       "      <th>Survived</th>\n",
       "      <th>Pclass</th>\n",
       "      <th>Age</th>\n",
       "      <th>SibSp</th>\n",
       "      <th>Parch</th>\n",
       "      <th>Fare</th>\n",
       "    </tr>\n",
       "  </thead>\n",
       "  <tbody>\n",
       "    <tr>\n",
       "      <th>count</th>\n",
       "      <td>891.000000</td>\n",
       "      <td>891.000000</td>\n",
       "      <td>891.000000</td>\n",
       "      <td>714.000000</td>\n",
       "      <td>891.000000</td>\n",
       "      <td>891.000000</td>\n",
       "      <td>891.000000</td>\n",
       "    </tr>\n",
       "    <tr>\n",
       "      <th>mean</th>\n",
       "      <td>446.000000</td>\n",
       "      <td>0.383838</td>\n",
       "      <td>2.308642</td>\n",
       "      <td>29.699118</td>\n",
       "      <td>0.523008</td>\n",
       "      <td>0.381594</td>\n",
       "      <td>32.204208</td>\n",
       "    </tr>\n",
       "    <tr>\n",
       "      <th>std</th>\n",
       "      <td>257.353842</td>\n",
       "      <td>0.486592</td>\n",
       "      <td>0.836071</td>\n",
       "      <td>14.526497</td>\n",
       "      <td>1.102743</td>\n",
       "      <td>0.806057</td>\n",
       "      <td>49.693429</td>\n",
       "    </tr>\n",
       "    <tr>\n",
       "      <th>min</th>\n",
       "      <td>1.000000</td>\n",
       "      <td>0.000000</td>\n",
       "      <td>1.000000</td>\n",
       "      <td>0.420000</td>\n",
       "      <td>0.000000</td>\n",
       "      <td>0.000000</td>\n",
       "      <td>0.000000</td>\n",
       "    </tr>\n",
       "    <tr>\n",
       "      <th>25%</th>\n",
       "      <td>223.500000</td>\n",
       "      <td>0.000000</td>\n",
       "      <td>2.000000</td>\n",
       "      <td>20.125000</td>\n",
       "      <td>0.000000</td>\n",
       "      <td>0.000000</td>\n",
       "      <td>7.910400</td>\n",
       "    </tr>\n",
       "    <tr>\n",
       "      <th>50%</th>\n",
       "      <td>446.000000</td>\n",
       "      <td>0.000000</td>\n",
       "      <td>3.000000</td>\n",
       "      <td>28.000000</td>\n",
       "      <td>0.000000</td>\n",
       "      <td>0.000000</td>\n",
       "      <td>14.454200</td>\n",
       "    </tr>\n",
       "    <tr>\n",
       "      <th>75%</th>\n",
       "      <td>668.500000</td>\n",
       "      <td>1.000000</td>\n",
       "      <td>3.000000</td>\n",
       "      <td>38.000000</td>\n",
       "      <td>1.000000</td>\n",
       "      <td>0.000000</td>\n",
       "      <td>31.000000</td>\n",
       "    </tr>\n",
       "    <tr>\n",
       "      <th>max</th>\n",
       "      <td>891.000000</td>\n",
       "      <td>1.000000</td>\n",
       "      <td>3.000000</td>\n",
       "      <td>80.000000</td>\n",
       "      <td>8.000000</td>\n",
       "      <td>6.000000</td>\n",
       "      <td>512.329200</td>\n",
       "    </tr>\n",
       "  </tbody>\n",
       "</table>\n",
       "</div>"
      ],
      "text/plain": [
       "       PassengerId    Survived      Pclass         Age       SibSp  \\\n",
       "count   891.000000  891.000000  891.000000  714.000000  891.000000   \n",
       "mean    446.000000    0.383838    2.308642   29.699118    0.523008   \n",
       "std     257.353842    0.486592    0.836071   14.526497    1.102743   \n",
       "min       1.000000    0.000000    1.000000    0.420000    0.000000   \n",
       "25%     223.500000    0.000000    2.000000   20.125000    0.000000   \n",
       "50%     446.000000    0.000000    3.000000   28.000000    0.000000   \n",
       "75%     668.500000    1.000000    3.000000   38.000000    1.000000   \n",
       "max     891.000000    1.000000    3.000000   80.000000    8.000000   \n",
       "\n",
       "            Parch        Fare  \n",
       "count  891.000000  891.000000  \n",
       "mean     0.381594   32.204208  \n",
       "std      0.806057   49.693429  \n",
       "min      0.000000    0.000000  \n",
       "25%      0.000000    7.910400  \n",
       "50%      0.000000   14.454200  \n",
       "75%      0.000000   31.000000  \n",
       "max      6.000000  512.329200  "
      ]
     },
     "execution_count": 79,
     "metadata": {},
     "output_type": "execute_result"
    }
   ],
   "source": [
    "train_data.describe()"
   ]
  },
  {
   "cell_type": "code",
   "execution_count": 80,
   "id": "d1c7f65c-0e1f-4456-a977-8b561df66b5d",
   "metadata": {},
   "outputs": [
    {
     "data": {
      "text/html": [
       "<div>\n",
       "<style scoped>\n",
       "    .dataframe tbody tr th:only-of-type {\n",
       "        vertical-align: middle;\n",
       "    }\n",
       "\n",
       "    .dataframe tbody tr th {\n",
       "        vertical-align: top;\n",
       "    }\n",
       "\n",
       "    .dataframe thead th {\n",
       "        text-align: right;\n",
       "    }\n",
       "</style>\n",
       "<table border=\"1\" class=\"dataframe\">\n",
       "  <thead>\n",
       "    <tr style=\"text-align: right;\">\n",
       "      <th></th>\n",
       "      <th>Name</th>\n",
       "      <th>Sex</th>\n",
       "      <th>Ticket</th>\n",
       "      <th>Cabin</th>\n",
       "      <th>Embarked</th>\n",
       "    </tr>\n",
       "  </thead>\n",
       "  <tbody>\n",
       "    <tr>\n",
       "      <th>count</th>\n",
       "      <td>891</td>\n",
       "      <td>891</td>\n",
       "      <td>891</td>\n",
       "      <td>204</td>\n",
       "      <td>889</td>\n",
       "    </tr>\n",
       "    <tr>\n",
       "      <th>unique</th>\n",
       "      <td>891</td>\n",
       "      <td>2</td>\n",
       "      <td>681</td>\n",
       "      <td>147</td>\n",
       "      <td>3</td>\n",
       "    </tr>\n",
       "    <tr>\n",
       "      <th>top</th>\n",
       "      <td>Braund, Mr. Owen Harris</td>\n",
       "      <td>male</td>\n",
       "      <td>347082</td>\n",
       "      <td>B96 B98</td>\n",
       "      <td>S</td>\n",
       "    </tr>\n",
       "    <tr>\n",
       "      <th>freq</th>\n",
       "      <td>1</td>\n",
       "      <td>577</td>\n",
       "      <td>7</td>\n",
       "      <td>4</td>\n",
       "      <td>644</td>\n",
       "    </tr>\n",
       "  </tbody>\n",
       "</table>\n",
       "</div>"
      ],
      "text/plain": [
       "                           Name   Sex  Ticket    Cabin Embarked\n",
       "count                       891   891     891      204      889\n",
       "unique                      891     2     681      147        3\n",
       "top     Braund, Mr. Owen Harris  male  347082  B96 B98        S\n",
       "freq                          1   577       7        4      644"
      ]
     },
     "execution_count": 80,
     "metadata": {},
     "output_type": "execute_result"
    }
   ],
   "source": [
    "train_data.describe(include=[\"O\"])"
   ]
  },
  {
   "cell_type": "code",
   "execution_count": 81,
   "id": "d5acfea8-f565-4fe4-8787-58f3d63b3d11",
   "metadata": {},
   "outputs": [
    {
     "data": {
      "text/html": [
       "<div>\n",
       "<style scoped>\n",
       "    .dataframe tbody tr th:only-of-type {\n",
       "        vertical-align: middle;\n",
       "    }\n",
       "\n",
       "    .dataframe tbody tr th {\n",
       "        vertical-align: top;\n",
       "    }\n",
       "\n",
       "    .dataframe thead th {\n",
       "        text-align: right;\n",
       "    }\n",
       "</style>\n",
       "<table border=\"1\" class=\"dataframe\">\n",
       "  <thead>\n",
       "    <tr style=\"text-align: right;\">\n",
       "      <th></th>\n",
       "      <th>Pclass</th>\n",
       "      <th>Survived</th>\n",
       "    </tr>\n",
       "  </thead>\n",
       "  <tbody>\n",
       "    <tr>\n",
       "      <th>0</th>\n",
       "      <td>1</td>\n",
       "      <td>0.629630</td>\n",
       "    </tr>\n",
       "    <tr>\n",
       "      <th>1</th>\n",
       "      <td>2</td>\n",
       "      <td>0.472826</td>\n",
       "    </tr>\n",
       "    <tr>\n",
       "      <th>2</th>\n",
       "      <td>3</td>\n",
       "      <td>0.242363</td>\n",
       "    </tr>\n",
       "  </tbody>\n",
       "</table>\n",
       "</div>"
      ],
      "text/plain": [
       "   Pclass  Survived\n",
       "0       1  0.629630\n",
       "1       2  0.472826\n",
       "2       3  0.242363"
      ]
     },
     "execution_count": 81,
     "metadata": {},
     "output_type": "execute_result"
    }
   ],
   "source": [
    "train_data.groupby([\"Pclass\"], as_index=False)[\"Survived\"].mean()"
   ]
  },
  {
   "cell_type": "code",
   "execution_count": 82,
   "id": "0370e59b-0ada-4982-8a05-041c33bbaef5",
   "metadata": {},
   "outputs": [
    {
     "data": {
      "text/html": [
       "<div>\n",
       "<style scoped>\n",
       "    .dataframe tbody tr th:only-of-type {\n",
       "        vertical-align: middle;\n",
       "    }\n",
       "\n",
       "    .dataframe tbody tr th {\n",
       "        vertical-align: top;\n",
       "    }\n",
       "\n",
       "    .dataframe thead th {\n",
       "        text-align: right;\n",
       "    }\n",
       "</style>\n",
       "<table border=\"1\" class=\"dataframe\">\n",
       "  <thead>\n",
       "    <tr style=\"text-align: right;\">\n",
       "      <th></th>\n",
       "      <th>Sex</th>\n",
       "      <th>Survived</th>\n",
       "    </tr>\n",
       "  </thead>\n",
       "  <tbody>\n",
       "    <tr>\n",
       "      <th>0</th>\n",
       "      <td>female</td>\n",
       "      <td>0.742038</td>\n",
       "    </tr>\n",
       "    <tr>\n",
       "      <th>1</th>\n",
       "      <td>male</td>\n",
       "      <td>0.188908</td>\n",
       "    </tr>\n",
       "  </tbody>\n",
       "</table>\n",
       "</div>"
      ],
      "text/plain": [
       "      Sex  Survived\n",
       "0  female  0.742038\n",
       "1    male  0.188908"
      ]
     },
     "execution_count": 82,
     "metadata": {},
     "output_type": "execute_result"
    }
   ],
   "source": [
    "train_data.groupby([\"Sex\"], as_index=False)[\"Survived\"].mean()"
   ]
  },
  {
   "cell_type": "code",
   "execution_count": 83,
   "id": "208bc828-d0f4-4441-9380-4449d892b743",
   "metadata": {},
   "outputs": [
    {
     "data": {
      "text/html": [
       "<div>\n",
       "<style scoped>\n",
       "    .dataframe tbody tr th:only-of-type {\n",
       "        vertical-align: middle;\n",
       "    }\n",
       "\n",
       "    .dataframe tbody tr th {\n",
       "        vertical-align: top;\n",
       "    }\n",
       "\n",
       "    .dataframe thead th {\n",
       "        text-align: right;\n",
       "    }\n",
       "</style>\n",
       "<table border=\"1\" class=\"dataframe\">\n",
       "  <thead>\n",
       "    <tr style=\"text-align: right;\">\n",
       "      <th></th>\n",
       "      <th>SibSp</th>\n",
       "      <th>Survived</th>\n",
       "    </tr>\n",
       "  </thead>\n",
       "  <tbody>\n",
       "    <tr>\n",
       "      <th>0</th>\n",
       "      <td>0</td>\n",
       "      <td>0.345395</td>\n",
       "    </tr>\n",
       "    <tr>\n",
       "      <th>1</th>\n",
       "      <td>1</td>\n",
       "      <td>0.535885</td>\n",
       "    </tr>\n",
       "    <tr>\n",
       "      <th>2</th>\n",
       "      <td>2</td>\n",
       "      <td>0.464286</td>\n",
       "    </tr>\n",
       "    <tr>\n",
       "      <th>3</th>\n",
       "      <td>3</td>\n",
       "      <td>0.250000</td>\n",
       "    </tr>\n",
       "    <tr>\n",
       "      <th>4</th>\n",
       "      <td>4</td>\n",
       "      <td>0.166667</td>\n",
       "    </tr>\n",
       "    <tr>\n",
       "      <th>5</th>\n",
       "      <td>5</td>\n",
       "      <td>0.000000</td>\n",
       "    </tr>\n",
       "    <tr>\n",
       "      <th>6</th>\n",
       "      <td>8</td>\n",
       "      <td>0.000000</td>\n",
       "    </tr>\n",
       "  </tbody>\n",
       "</table>\n",
       "</div>"
      ],
      "text/plain": [
       "   SibSp  Survived\n",
       "0      0  0.345395\n",
       "1      1  0.535885\n",
       "2      2  0.464286\n",
       "3      3  0.250000\n",
       "4      4  0.166667\n",
       "5      5  0.000000\n",
       "6      8  0.000000"
      ]
     },
     "execution_count": 83,
     "metadata": {},
     "output_type": "execute_result"
    }
   ],
   "source": [
    "train_data.groupby([\"SibSp\"], as_index=False)[\"Survived\"].mean()"
   ]
  },
  {
   "cell_type": "code",
   "execution_count": 84,
   "id": "d915cdd7-3fef-4c67-aca8-1ef755643fc1",
   "metadata": {},
   "outputs": [
    {
     "data": {
      "text/html": [
       "<div>\n",
       "<style scoped>\n",
       "    .dataframe tbody tr th:only-of-type {\n",
       "        vertical-align: middle;\n",
       "    }\n",
       "\n",
       "    .dataframe tbody tr th {\n",
       "        vertical-align: top;\n",
       "    }\n",
       "\n",
       "    .dataframe thead th {\n",
       "        text-align: right;\n",
       "    }\n",
       "</style>\n",
       "<table border=\"1\" class=\"dataframe\">\n",
       "  <thead>\n",
       "    <tr style=\"text-align: right;\">\n",
       "      <th></th>\n",
       "      <th>Parch</th>\n",
       "      <th>Survived</th>\n",
       "    </tr>\n",
       "  </thead>\n",
       "  <tbody>\n",
       "    <tr>\n",
       "      <th>0</th>\n",
       "      <td>0</td>\n",
       "      <td>0.343658</td>\n",
       "    </tr>\n",
       "    <tr>\n",
       "      <th>1</th>\n",
       "      <td>1</td>\n",
       "      <td>0.550847</td>\n",
       "    </tr>\n",
       "    <tr>\n",
       "      <th>2</th>\n",
       "      <td>2</td>\n",
       "      <td>0.500000</td>\n",
       "    </tr>\n",
       "    <tr>\n",
       "      <th>3</th>\n",
       "      <td>3</td>\n",
       "      <td>0.600000</td>\n",
       "    </tr>\n",
       "    <tr>\n",
       "      <th>4</th>\n",
       "      <td>4</td>\n",
       "      <td>0.000000</td>\n",
       "    </tr>\n",
       "    <tr>\n",
       "      <th>5</th>\n",
       "      <td>5</td>\n",
       "      <td>0.200000</td>\n",
       "    </tr>\n",
       "    <tr>\n",
       "      <th>6</th>\n",
       "      <td>6</td>\n",
       "      <td>0.000000</td>\n",
       "    </tr>\n",
       "  </tbody>\n",
       "</table>\n",
       "</div>"
      ],
      "text/plain": [
       "   Parch  Survived\n",
       "0      0  0.343658\n",
       "1      1  0.550847\n",
       "2      2  0.500000\n",
       "3      3  0.600000\n",
       "4      4  0.000000\n",
       "5      5  0.200000\n",
       "6      6  0.000000"
      ]
     },
     "execution_count": 84,
     "metadata": {},
     "output_type": "execute_result"
    }
   ],
   "source": [
    "train_data.groupby([\"Parch\"], as_index=False)[\"Survived\"].mean()"
   ]
  },
  {
   "cell_type": "code",
   "execution_count": 85,
   "id": "ae217ecb-2b97-4ac9-a7c4-7e54660ac1cd",
   "metadata": {},
   "outputs": [],
   "source": [
    "train_data[\"Family_Size\"] = train_data[\"SibSp\"] + train_data[\"Parch\"] + 1\n",
    "test_data[\"Family_Size\"] = test_data[\"SibSp\"] + train_data[\"Parch\"] + 1"
   ]
  },
  {
   "cell_type": "code",
   "execution_count": 86,
   "id": "f64405fe-e5fb-4dd8-98cd-59dab43b6238",
   "metadata": {},
   "outputs": [
    {
     "data": {
      "text/html": [
       "<div>\n",
       "<style scoped>\n",
       "    .dataframe tbody tr th:only-of-type {\n",
       "        vertical-align: middle;\n",
       "    }\n",
       "\n",
       "    .dataframe tbody tr th {\n",
       "        vertical-align: top;\n",
       "    }\n",
       "\n",
       "    .dataframe thead th {\n",
       "        text-align: right;\n",
       "    }\n",
       "</style>\n",
       "<table border=\"1\" class=\"dataframe\">\n",
       "  <thead>\n",
       "    <tr style=\"text-align: right;\">\n",
       "      <th></th>\n",
       "      <th>Family_Size</th>\n",
       "      <th>Survived</th>\n",
       "    </tr>\n",
       "  </thead>\n",
       "  <tbody>\n",
       "    <tr>\n",
       "      <th>0</th>\n",
       "      <td>1</td>\n",
       "      <td>0.303538</td>\n",
       "    </tr>\n",
       "    <tr>\n",
       "      <th>1</th>\n",
       "      <td>2</td>\n",
       "      <td>0.552795</td>\n",
       "    </tr>\n",
       "    <tr>\n",
       "      <th>2</th>\n",
       "      <td>3</td>\n",
       "      <td>0.578431</td>\n",
       "    </tr>\n",
       "    <tr>\n",
       "      <th>3</th>\n",
       "      <td>4</td>\n",
       "      <td>0.724138</td>\n",
       "    </tr>\n",
       "    <tr>\n",
       "      <th>4</th>\n",
       "      <td>5</td>\n",
       "      <td>0.200000</td>\n",
       "    </tr>\n",
       "    <tr>\n",
       "      <th>5</th>\n",
       "      <td>6</td>\n",
       "      <td>0.136364</td>\n",
       "    </tr>\n",
       "    <tr>\n",
       "      <th>6</th>\n",
       "      <td>7</td>\n",
       "      <td>0.333333</td>\n",
       "    </tr>\n",
       "    <tr>\n",
       "      <th>7</th>\n",
       "      <td>8</td>\n",
       "      <td>0.000000</td>\n",
       "    </tr>\n",
       "    <tr>\n",
       "      <th>8</th>\n",
       "      <td>11</td>\n",
       "      <td>0.000000</td>\n",
       "    </tr>\n",
       "  </tbody>\n",
       "</table>\n",
       "</div>"
      ],
      "text/plain": [
       "   Family_Size  Survived\n",
       "0            1  0.303538\n",
       "1            2  0.552795\n",
       "2            3  0.578431\n",
       "3            4  0.724138\n",
       "4            5  0.200000\n",
       "5            6  0.136364\n",
       "6            7  0.333333\n",
       "7            8  0.000000\n",
       "8           11  0.000000"
      ]
     },
     "execution_count": 86,
     "metadata": {},
     "output_type": "execute_result"
    }
   ],
   "source": [
    "train_data.groupby([\"Family_Size\"], as_index=False)[\"Survived\"].mean()"
   ]
  },
  {
   "cell_type": "code",
   "execution_count": 87,
   "id": "51ef7a4d-17d8-4ae9-a238-cd67d62f8ad0",
   "metadata": {},
   "outputs": [],
   "source": [
    "family_map = {1: \"Alone\", 2: \"Small\", 3: \"Small\", 4: \"Small\", 5: \"Medium\", 6: \"Medium\", 7: \"Large\", 8:\"Large\", 11: \"Large\"}\n",
    "train_data[\"Family_Size_Grouped\"] = train_data[\"Family_Size\"].map(family_map)\n",
    "test_data[\"Family_Size_Grouped\"] = test_data[\"Family_Size\"].map(family_map)"
   ]
  },
  {
   "cell_type": "code",
   "execution_count": 88,
   "id": "af785658-7c5b-4bf1-a007-141c7bdb5867",
   "metadata": {},
   "outputs": [
    {
     "data": {
      "text/html": [
       "<div>\n",
       "<style scoped>\n",
       "    .dataframe tbody tr th:only-of-type {\n",
       "        vertical-align: middle;\n",
       "    }\n",
       "\n",
       "    .dataframe tbody tr th {\n",
       "        vertical-align: top;\n",
       "    }\n",
       "\n",
       "    .dataframe thead th {\n",
       "        text-align: right;\n",
       "    }\n",
       "</style>\n",
       "<table border=\"1\" class=\"dataframe\">\n",
       "  <thead>\n",
       "    <tr style=\"text-align: right;\">\n",
       "      <th></th>\n",
       "      <th>Family_Size_Grouped</th>\n",
       "      <th>Survived</th>\n",
       "    </tr>\n",
       "  </thead>\n",
       "  <tbody>\n",
       "    <tr>\n",
       "      <th>0</th>\n",
       "      <td>Alone</td>\n",
       "      <td>0.303538</td>\n",
       "    </tr>\n",
       "    <tr>\n",
       "      <th>1</th>\n",
       "      <td>Large</td>\n",
       "      <td>0.160000</td>\n",
       "    </tr>\n",
       "    <tr>\n",
       "      <th>2</th>\n",
       "      <td>Medium</td>\n",
       "      <td>0.162162</td>\n",
       "    </tr>\n",
       "    <tr>\n",
       "      <th>3</th>\n",
       "      <td>Small</td>\n",
       "      <td>0.578767</td>\n",
       "    </tr>\n",
       "  </tbody>\n",
       "</table>\n",
       "</div>"
      ],
      "text/plain": [
       "  Family_Size_Grouped  Survived\n",
       "0               Alone  0.303538\n",
       "1               Large  0.160000\n",
       "2              Medium  0.162162\n",
       "3               Small  0.578767"
      ]
     },
     "execution_count": 88,
     "metadata": {},
     "output_type": "execute_result"
    }
   ],
   "source": [
    "train_data.groupby([\"Family_Size_Grouped\"], as_index= False)[\"Survived\"].mean()"
   ]
  },
  {
   "cell_type": "code",
   "execution_count": 89,
   "id": "82d3c07a-f004-4236-b14e-d1def3230a3d",
   "metadata": {},
   "outputs": [
    {
     "data": {
      "text/html": [
       "<div>\n",
       "<style scoped>\n",
       "    .dataframe tbody tr th:only-of-type {\n",
       "        vertical-align: middle;\n",
       "    }\n",
       "\n",
       "    .dataframe tbody tr th {\n",
       "        vertical-align: top;\n",
       "    }\n",
       "\n",
       "    .dataframe thead th {\n",
       "        text-align: right;\n",
       "    }\n",
       "</style>\n",
       "<table border=\"1\" class=\"dataframe\">\n",
       "  <thead>\n",
       "    <tr style=\"text-align: right;\">\n",
       "      <th></th>\n",
       "      <th>Embarked</th>\n",
       "      <th>Survived</th>\n",
       "    </tr>\n",
       "  </thead>\n",
       "  <tbody>\n",
       "    <tr>\n",
       "      <th>0</th>\n",
       "      <td>C</td>\n",
       "      <td>0.553571</td>\n",
       "    </tr>\n",
       "    <tr>\n",
       "      <th>1</th>\n",
       "      <td>Q</td>\n",
       "      <td>0.389610</td>\n",
       "    </tr>\n",
       "    <tr>\n",
       "      <th>2</th>\n",
       "      <td>S</td>\n",
       "      <td>0.336957</td>\n",
       "    </tr>\n",
       "  </tbody>\n",
       "</table>\n",
       "</div>"
      ],
      "text/plain": [
       "  Embarked  Survived\n",
       "0        C  0.553571\n",
       "1        Q  0.389610\n",
       "2        S  0.336957"
      ]
     },
     "execution_count": 89,
     "metadata": {},
     "output_type": "execute_result"
    }
   ],
   "source": [
    "train_data.groupby([\"Embarked\"], as_index=False)[\"Survived\"].mean()"
   ]
  },
  {
   "cell_type": "code",
   "execution_count": 90,
   "id": "8885b9a4-5289-4f92-9955-209fa3520b2f",
   "metadata": {},
   "outputs": [
    {
     "data": {
      "image/png": "[encoded data removed]",
      "text/plain": [
       "<Figure size 1000x600 with 1 Axes>"
      ]
     },
     "metadata": {},
     "output_type": "display_data"
    }
   ],
   "source": [
    "# Set the style and figure size\n",
    "sns.set(style='darkgrid')\n",
    "plt.figure(figsize=(10, 6))\n",
    "\n",
    "\n",
    "ax = sns.countplot(\n",
    "    data=train_data,\n",
    "    x='Family_Size_Grouped',\n",
    "    hue='Sex',\n",
    "    palette={'male': '#1f1fff', 'female': '#7f7fff'},  # Modern color palette\n",
    "    dodge=True,\n",
    "    width=0.7,\n",
    "    saturation=0.8  # Slightly reduced saturation for modern look\n",
    ")\n",
    "\n",
    "# Calculate totals and percentages\n",
    "total = len(train_data)\n",
    "for container in ax.containers:\n",
    "    values = [int(v.get_height()) for v in container]\n",
    "    percentages = [f'{(v/total)*100:.1f}%' for v in values]\n",
    "    ax.bar_label(container, labels=percentages, padding=3, fontsize=10)\n",
    "\n",
    "# Add title and labels\n",
    "plt.title('Passenger Distribution by Class and Gender', \n",
    "         pad=20, \n",
    "         fontsize=14, \n",
    "         fontweight='bold')\n",
    "plt.xlabel('Passenger Class', fontsize=12, labelpad=10)\n",
    "plt.ylabel('Number of Passengers', fontsize=12, labelpad=10)\n",
    "\n",
    "# Customize legend\n",
    "ax.legend(title='Gender', \n",
    "         title_fontsize=12, \n",
    "         fontsize=10,\n",
    "         labels=['Male', 'Female'],\n",
    "         bbox_to_anchor=(1.05, 1),\n",
    "         loc='upper left',\n",
    "         frameon=True,)\n",
    "\n",
    "# Modern grid styling\n",
    "ax.grid(axis='y', linestyle='--', alpha=0.3, color='gray')\n",
    "\n",
    "# Adjust layout to prevent label cutoff\n",
    "plt.tight_layout()\n",
    "\n",
    "plt.show()"
   ]
  },
  {
   "cell_type": "code",
   "execution_count": 91,
   "id": "f63a0502-4b21-491b-96ed-fd61543a7095",
   "metadata": {},
   "outputs": [
    {
     "data": {
      "text/plain": [
       "<seaborn.axisgrid.FacetGrid at 0x1b2c2d8abe0>"
      ]
     },
     "execution_count": 91,
     "metadata": {},
     "output_type": "execute_result"
    },
    {
     "data": {
      "image/png": "[encoded data removed]",
      "text/plain": [
       "<Figure size 1440x600 with 2 Axes>"
      ]
     },
     "metadata": {},
     "output_type": "display_data"
    }
   ],
   "source": [
    "sns.displot(\n",
    "    data=train_data,\n",
    "    x=\"Age\",\n",
    "    col=\"Survived\",\n",
    "    binwidth=10,\n",
    "    height=6,\n",
    "    aspect=1.2,\n",
    "    # Add color and style elements\n",
    "    color=\"red\",\n",
    "    fill=True,\n",
    "    alpha=0.6,  # Some transparency\n",
    "    kde=True,  # Add kernel density estimate\n",
    ")"
   ]
  },
  {
   "cell_type": "code",
   "execution_count": 92,
   "id": "94629002-a186-4e13-bf53-96e0396425d0",
   "metadata": {},
   "outputs": [],
   "source": [
    "# Create age groups\n",
    "train_data['Age_Group'] = pd.qcut(train_data['Age'], \n",
    "                                q=7)"
   ]
  },
  {
   "cell_type": "code",
   "execution_count": 93,
   "id": "98c7483d-e886-4a78-9eb4-03b72637ad02",
   "metadata": {},
   "outputs": [
    {
     "data": {
      "text/html": [
       "<div>\n",
       "<style scoped>\n",
       "    .dataframe tbody tr th:only-of-type {\n",
       "        vertical-align: middle;\n",
       "    }\n",
       "\n",
       "    .dataframe tbody tr th {\n",
       "        vertical-align: top;\n",
       "    }\n",
       "\n",
       "    .dataframe thead th {\n",
       "        text-align: right;\n",
       "    }\n",
       "</style>\n",
       "<table border=\"1\" class=\"dataframe\">\n",
       "  <thead>\n",
       "    <tr style=\"text-align: right;\">\n",
       "      <th></th>\n",
       "      <th>Age_Group</th>\n",
       "      <th>Survivors_Count</th>\n",
       "      <th>Survival_Rate</th>\n",
       "    </tr>\n",
       "  </thead>\n",
       "  <tbody>\n",
       "    <tr>\n",
       "      <th>0</th>\n",
       "      <td>(0.419, 17.0]</td>\n",
       "      <td>113</td>\n",
       "      <td>0.539823</td>\n",
       "    </tr>\n",
       "    <tr>\n",
       "      <th>1</th>\n",
       "      <td>(17.0, 21.714]</td>\n",
       "      <td>91</td>\n",
       "      <td>0.285714</td>\n",
       "    </tr>\n",
       "    <tr>\n",
       "      <th>2</th>\n",
       "      <td>(21.714, 26.0]</td>\n",
       "      <td>115</td>\n",
       "      <td>0.373913</td>\n",
       "    </tr>\n",
       "    <tr>\n",
       "      <th>3</th>\n",
       "      <td>(26.0, 30.0]</td>\n",
       "      <td>90</td>\n",
       "      <td>0.400000</td>\n",
       "    </tr>\n",
       "    <tr>\n",
       "      <th>4</th>\n",
       "      <td>(30.0, 36.0]</td>\n",
       "      <td>110</td>\n",
       "      <td>0.472727</td>\n",
       "    </tr>\n",
       "    <tr>\n",
       "      <th>5</th>\n",
       "      <td>(36.0, 45.5]</td>\n",
       "      <td>94</td>\n",
       "      <td>0.361702</td>\n",
       "    </tr>\n",
       "    <tr>\n",
       "      <th>6</th>\n",
       "      <td>(45.5, 80.0]</td>\n",
       "      <td>101</td>\n",
       "      <td>0.376238</td>\n",
       "    </tr>\n",
       "  </tbody>\n",
       "</table>\n",
       "</div>"
      ],
      "text/plain": [
       "        Age_Group  Survivors_Count  Survival_Rate\n",
       "0   (0.419, 17.0]              113       0.539823\n",
       "1  (17.0, 21.714]               91       0.285714\n",
       "2  (21.714, 26.0]              115       0.373913\n",
       "3    (26.0, 30.0]               90       0.400000\n",
       "4    (30.0, 36.0]              110       0.472727\n",
       "5    (36.0, 45.5]               94       0.361702\n",
       "6    (45.5, 80.0]              101       0.376238"
      ]
     },
     "execution_count": 93,
     "metadata": {},
     "output_type": "execute_result"
    }
   ],
   "source": [
    "# Survival statistics by age group\n",
    "Age_Group_col = (\n",
    "    train_data\n",
    "    .groupby('Age_Group', observed=False)['Survived']\n",
    "    .agg(Survivors_Count='count', Survival_Rate='mean')\n",
    "    .reset_index()\n",
    ")\n",
    "\n",
    "Age_Group_col"
   ]
  },
  {
   "cell_type": "code",
   "execution_count": 94,
   "id": "d7f25107-79ba-4e23-bc8a-874b5a69c54a",
   "metadata": {},
   "outputs": [
    {
     "data": {
      "image/png": "[encoded data removed]",
      "text/plain": [
       "<Figure size 1440x600 with 2 Axes>"
      ]
     },
     "metadata": {},
     "output_type": "display_data"
    }
   ],
   "source": [
    "hist = pd.qcut(train_data['Age'], q = 7, labels = [1, 2, 3, 4, 5, 6, 7])\n",
    "\n",
    "sns.displot(\n",
    "    data=train_data,\n",
    "    x=hist,  # Doğrudan kategori değişkenini kullan\n",
    "    col=\"Survived\",\n",
    "    binwidth=8,\n",
    "    height=6,\n",
    "    aspect=1.2,\n",
    "    # Add color and style elements\n",
    "    color=\"red\",\n",
    "    fill=True,\n",
    "    alpha=0.6,  # Some transparency\n",
    "    kde=True,  # Add kernel density estimate\n",
    ")\n",
    "plt.show()\n"
   ]
  },
  {
   "cell_type": "code",
   "execution_count": 95,
   "id": "a966f323-6402-48fd-ba3f-9b53abb196f6",
   "metadata": {},
   "outputs": [],
   "source": [
    "train_data.loc[train_data[\"Age\"] <= 17, \"Age\"] = 1\n",
    "train_data.loc[(train_data[\"Age\"] > 17) & (train_data[\"Age\"] <= 21.714), \"Age\"] = 2\n",
    "train_data.loc[(train_data[\"Age\"] > 21.714) & (train_data[\"Age\"] <= 26), \"Age\"] = 3\n",
    "train_data.loc[(train_data[\"Age\"] > 26) & (train_data[\"Age\"] <= 30), \"Age\"] = 4\n",
    "train_data.loc[(train_data[\"Age\"] > 30) & (train_data[\"Age\"] <= 36), \"Age\"] = 5\n",
    "train_data.loc[(train_data[\"Age\"] > 36) & (train_data[\"Age\"] <= 45.5), \"Age\"] = 6\n",
    "train_data.loc[(train_data[\"Age\"] > 45.5) & (train_data[\"Age\"] <= 80.0), \"Age\"] = 7\n",
    "\n",
    "test_data.loc[train_data[\"Age\"] <= 17, \"Age\"] = 1\n",
    "test_data.loc[(train_data[\"Age\"] > 17) & (test_data[\"Age\"] <= 21.714), \"Age\"] = 2\n",
    "test_data.loc[(train_data[\"Age\"] > 21.714) & (test_data[\"Age\"] <= 26), \"Age\"] = 3\n",
    "test_data.loc[(train_data[\"Age\"] > 26) & (test_data[\"Age\"] <= 30), \"Age\"] = 4\n",
    "test_data.loc[(train_data[\"Age\"] > 30) & (test_data[\"Age\"] <= 36), \"Age\"] = 5\n",
    "test_data.loc[(train_data[\"Age\"] > 36) & (test_data[\"Age\"] <= 45.5), \"Age\"] = 6\n",
    "test_data.loc[(train_data[\"Age\"] > 45.5) & (test_data[\"Age\"] <= 80), \"Age\"] = 7"
   ]
  },
  {
   "cell_type": "code",
   "execution_count": 96,
   "id": "b1a8a84b-d91b-4dfe-a9ea-cf9ca086ef32",
   "metadata": {},
   "outputs": [
    {
     "data": {
      "text/plain": [
       "<seaborn.axisgrid.FacetGrid at 0x1b2c3346a30>"
      ]
     },
     "execution_count": 96,
     "metadata": {},
     "output_type": "execute_result"
    },
    {
     "data": {
      "image/png": "[encoded data removed]",
      "text/plain": [
       "<Figure size 1440x600 with 2 Axes>"
      ]
     },
     "metadata": {},
     "output_type": "display_data"
    }
   ],
   "source": [
    "sns.displot(\n",
    "    data=train_data,\n",
    "    x=\"Fare\",\n",
    "    col=\"Survived\",\n",
    "    binwidth=10,\n",
    "    height=6,\n",
    "    aspect=1.2,\n",
    "    # Add color and style elements\n",
    "    color=\"red\",\n",
    "    fill=True,\n",
    "    alpha=0.6,  # Some transparency\n",
    "    kde=True,  # Add kernel density estimate\n",
    ")"
   ]
  },
  {
   "cell_type": "code",
   "execution_count": 97,
   "id": "546472a4-1bc4-4cfd-9291-69d23661e864",
   "metadata": {},
   "outputs": [],
   "source": [
    "train_data['Fare_Cut'] = pd.qcut(train_data['Fare'], \n",
    "                                q=5)"
   ]
  },
  {
   "cell_type": "code",
   "execution_count": 98,
   "id": "36acf03f-45b7-49b8-820f-57459d5050fa",
   "metadata": {},
   "outputs": [
    {
     "data": {
      "text/html": [
       "<div>\n",
       "<style scoped>\n",
       "    .dataframe tbody tr th:only-of-type {\n",
       "        vertical-align: middle;\n",
       "    }\n",
       "\n",
       "    .dataframe tbody tr th {\n",
       "        vertical-align: top;\n",
       "    }\n",
       "\n",
       "    .dataframe thead th {\n",
       "        text-align: right;\n",
       "    }\n",
       "</style>\n",
       "<table border=\"1\" class=\"dataframe\">\n",
       "  <thead>\n",
       "    <tr style=\"text-align: right;\">\n",
       "      <th></th>\n",
       "      <th>Fare_Cut</th>\n",
       "      <th>Survivors_Count</th>\n",
       "      <th>Survival_Rate</th>\n",
       "    </tr>\n",
       "  </thead>\n",
       "  <tbody>\n",
       "    <tr>\n",
       "      <th>0</th>\n",
       "      <td>(-0.001, 7.854]</td>\n",
       "      <td>179</td>\n",
       "      <td>0.217877</td>\n",
       "    </tr>\n",
       "    <tr>\n",
       "      <th>1</th>\n",
       "      <td>(7.854, 10.5]</td>\n",
       "      <td>184</td>\n",
       "      <td>0.201087</td>\n",
       "    </tr>\n",
       "    <tr>\n",
       "      <th>2</th>\n",
       "      <td>(10.5, 21.679]</td>\n",
       "      <td>172</td>\n",
       "      <td>0.424419</td>\n",
       "    </tr>\n",
       "    <tr>\n",
       "      <th>3</th>\n",
       "      <td>(21.679, 39.688]</td>\n",
       "      <td>180</td>\n",
       "      <td>0.444444</td>\n",
       "    </tr>\n",
       "    <tr>\n",
       "      <th>4</th>\n",
       "      <td>(39.688, 512.329]</td>\n",
       "      <td>176</td>\n",
       "      <td>0.642045</td>\n",
       "    </tr>\n",
       "  </tbody>\n",
       "</table>\n",
       "</div>"
      ],
      "text/plain": [
       "            Fare_Cut  Survivors_Count  Survival_Rate\n",
       "0    (-0.001, 7.854]              179       0.217877\n",
       "1      (7.854, 10.5]              184       0.201087\n",
       "2     (10.5, 21.679]              172       0.424419\n",
       "3   (21.679, 39.688]              180       0.444444\n",
       "4  (39.688, 512.329]              176       0.642045"
      ]
     },
     "execution_count": 98,
     "metadata": {},
     "output_type": "execute_result"
    }
   ],
   "source": [
    "Fare_col = (\n",
    "    train_data\n",
    "    .groupby('Fare_Cut', observed=False)['Survived']\n",
    "    .agg(Survivors_Count='count', Survival_Rate='mean')\n",
    "    .reset_index()\n",
    ")\n",
    "\n",
    "Fare_col"
   ]
  },
  {
   "cell_type": "code",
   "execution_count": 99,
   "id": "ea4462a9-840b-412a-8e55-82f58bda5ed9",
   "metadata": {},
   "outputs": [],
   "source": [
    "train_data.loc[train_data[\"Fare\"] <= 7.854, \"Fare\"] = 1\n",
    "train_data.loc[(train_data[\"Fare\"] > 7.854) & (train_data[\"Fare\"] <= 10.5), \"Fare\"] = 2\n",
    "train_data.loc[(train_data[\"Fare\"] > 10.5) & (train_data[\"Fare\"] <= 21.679), \"Fare\"] = 3\n",
    "train_data.loc[(train_data[\"Fare\"] > 21.679) & (train_data[\"Fare\"] <= 39.688), \"Fare\"] = 4\n",
    "train_data.loc[(train_data[\"Fare\"] > 39.688) & (train_data[\"Fare\"] <= 512.329), \"Fare\"] = 5\n",
    "\n",
    "test_data.loc[test_data[\"Fare\"] <= 7.854, \"Fare\"] = 1\n",
    "test_data.loc[(test_data[\"Fare\"] > 7.854) & (test_data[\"Fare\"] <= 10.5), \"Fare\"] = 2\n",
    "test_data.loc[(test_data[\"Fare\"] > 10.5) & (test_data[\"Fare\"] <= 21.679), \"Fare\"] = 3\n",
    "test_data.loc[(test_data[\"Fare\"] > 21.679) & (test_data[\"Fare\"] <= 39.688), \"Fare\"] = 4\n",
    "test_data.loc[(test_data[\"Fare\"] > 39.688) & (test_data[\"Fare\"] <= 512.329), \"Fare\"] = 5"
   ]
  },
  {
   "cell_type": "code",
   "execution_count": 100,
   "id": "4dc88a51-a98a-44d3-bedf-411ceeabf05f",
   "metadata": {},
   "outputs": [
    {
     "data": {
      "text/plain": [
       "0                              Braund, Mr. Owen Harris\n",
       "1    Cumings, Mrs. John Bradley (Florence Briggs Th...\n",
       "2                               Heikkinen, Miss. Laina\n",
       "Name: Name, dtype: object"
      ]
     },
     "execution_count": 100,
     "metadata": {},
     "output_type": "execute_result"
    }
   ],
   "source": [
    "train_data[\"Name\"][0:3]"
   ]
  },
  {
   "cell_type": "code",
   "execution_count": 101,
   "id": "e54ff299-0dc7-4cd7-a1a9-d34e78959305",
   "metadata": {},
   "outputs": [],
   "source": [
    "def extract_title(df, name_column='Name'):\n",
    "    \"\"\"\n",
    "    Extracts titles (like Dr., Prof., Mr.) from names in a DataFrame.\n",
    "    \n",
    "    Args:\n",
    "        df: The DataFrame containing names\n",
    "        name_column: The column name that contains the full names (default is 'Name')\n",
    "    \n",
    "    Returns:\n",
    "        DataFrame with a new 'Title' column\n",
    "    \n",
    "    Example:\n",
    "        If name is \"Smith, Dr. John\", the title extracted will be \"Dr\"\n",
    "    \"\"\"\n",
    "    # Make a copy of the DataFrame to avoid changing the original\n",
    "    df = df.copy()\n",
    "    \n",
    "    # Step 1: Split the name at the comma\n",
    "    # Example: \"Smith, Dr. John\" -> [\"Smith\", \"Dr. John\"]\n",
    "    names_split = df[name_column].str.split(',')\n",
    "    \n",
    "    # Step 2: Get the part after the comma\n",
    "    # Example: \"Dr. John\"\n",
    "    after_comma = names_split.str[1]\n",
    "    \n",
    "    # Step 3: Split at the period and get the first part\n",
    "    # Example: \"Dr. John\" -> [\"Dr\", \"John\"] -> \"Dr\"\n",
    "    titles = after_comma.str.split('.').str[0]\n",
    "    \n",
    "    # Step 4: Remove any extra spaces\n",
    "    df['Title'] = titles.str.strip()\n",
    "    \n",
    "    return df"
   ]
  },
  {
   "cell_type": "code",
   "execution_count": 102,
   "id": "9659309c-1ed9-48ba-80e7-94947c3979ac",
   "metadata": {},
   "outputs": [],
   "source": [
    "train_data = extract_title(train_data)\n",
    "test_data = extract_title(test_data)"
   ]
  },
  {
   "cell_type": "code",
   "execution_count": 103,
   "id": "509934ea-274a-4c4b-b258-ee35dbad07ee",
   "metadata": {},
   "outputs": [
    {
     "data": {
      "text/html": [
       "<div>\n",
       "<style scoped>\n",
       "    .dataframe tbody tr th:only-of-type {\n",
       "        vertical-align: middle;\n",
       "    }\n",
       "\n",
       "    .dataframe tbody tr th {\n",
       "        vertical-align: top;\n",
       "    }\n",
       "\n",
       "    .dataframe thead th {\n",
       "        text-align: right;\n",
       "    }\n",
       "</style>\n",
       "<table border=\"1\" class=\"dataframe\">\n",
       "  <thead>\n",
       "    <tr style=\"text-align: right;\">\n",
       "      <th></th>\n",
       "      <th>count</th>\n",
       "      <th>mean</th>\n",
       "    </tr>\n",
       "    <tr>\n",
       "      <th>Title</th>\n",
       "      <th></th>\n",
       "      <th></th>\n",
       "    </tr>\n",
       "  </thead>\n",
       "  <tbody>\n",
       "    <tr>\n",
       "      <th>Capt</th>\n",
       "      <td>1</td>\n",
       "      <td>0.0000</td>\n",
       "    </tr>\n",
       "    <tr>\n",
       "      <th>Col</th>\n",
       "      <td>2</td>\n",
       "      <td>0.5000</td>\n",
       "    </tr>\n",
       "    <tr>\n",
       "      <th>Don</th>\n",
       "      <td>1</td>\n",
       "      <td>0.0000</td>\n",
       "    </tr>\n",
       "    <tr>\n",
       "      <th>Dr</th>\n",
       "      <td>7</td>\n",
       "      <td>0.4286</td>\n",
       "    </tr>\n",
       "    <tr>\n",
       "      <th>Jonkheer</th>\n",
       "      <td>1</td>\n",
       "      <td>0.0000</td>\n",
       "    </tr>\n",
       "    <tr>\n",
       "      <th>Lady</th>\n",
       "      <td>1</td>\n",
       "      <td>1.0000</td>\n",
       "    </tr>\n",
       "    <tr>\n",
       "      <th>Major</th>\n",
       "      <td>2</td>\n",
       "      <td>0.5000</td>\n",
       "    </tr>\n",
       "    <tr>\n",
       "      <th>Master</th>\n",
       "      <td>40</td>\n",
       "      <td>0.5750</td>\n",
       "    </tr>\n",
       "    <tr>\n",
       "      <th>Miss</th>\n",
       "      <td>182</td>\n",
       "      <td>0.6978</td>\n",
       "    </tr>\n",
       "    <tr>\n",
       "      <th>Mlle</th>\n",
       "      <td>2</td>\n",
       "      <td>1.0000</td>\n",
       "    </tr>\n",
       "    <tr>\n",
       "      <th>Mme</th>\n",
       "      <td>1</td>\n",
       "      <td>1.0000</td>\n",
       "    </tr>\n",
       "    <tr>\n",
       "      <th>Mr</th>\n",
       "      <td>517</td>\n",
       "      <td>0.1567</td>\n",
       "    </tr>\n",
       "    <tr>\n",
       "      <th>Mrs</th>\n",
       "      <td>125</td>\n",
       "      <td>0.7920</td>\n",
       "    </tr>\n",
       "    <tr>\n",
       "      <th>Ms</th>\n",
       "      <td>1</td>\n",
       "      <td>1.0000</td>\n",
       "    </tr>\n",
       "    <tr>\n",
       "      <th>Rev</th>\n",
       "      <td>6</td>\n",
       "      <td>0.0000</td>\n",
       "    </tr>\n",
       "    <tr>\n",
       "      <th>Sir</th>\n",
       "      <td>1</td>\n",
       "      <td>1.0000</td>\n",
       "    </tr>\n",
       "    <tr>\n",
       "      <th>the Countess</th>\n",
       "      <td>1</td>\n",
       "      <td>1.0000</td>\n",
       "    </tr>\n",
       "  </tbody>\n",
       "</table>\n",
       "</div>"
      ],
      "text/plain": [
       "              count    mean\n",
       "Title                      \n",
       "Capt              1  0.0000\n",
       "Col               2  0.5000\n",
       "Don               1  0.0000\n",
       "Dr                7  0.4286\n",
       "Jonkheer          1  0.0000\n",
       "Lady              1  1.0000\n",
       "Major             2  0.5000\n",
       "Master           40  0.5750\n",
       "Miss            182  0.6978\n",
       "Mlle              2  1.0000\n",
       "Mme               1  1.0000\n",
       "Mr              517  0.1567\n",
       "Mrs             125  0.7920\n",
       "Ms                1  1.0000\n",
       "Rev               6  0.0000\n",
       "Sir               1  1.0000\n",
       "the Countess      1  1.0000"
      ]
     },
     "execution_count": 103,
     "metadata": {},
     "output_type": "execute_result"
    }
   ],
   "source": [
    "title_survival = train_data.groupby('Title')['Survived'].agg([\n",
    "        'count',\n",
    "        'mean'\n",
    "    ]).round(4)\n",
    "title_survival"
   ]
  },
  {
   "cell_type": "code",
   "execution_count": 104,
   "id": "328bed99-099a-4343-8f22-c77bd5244713",
   "metadata": {},
   "outputs": [],
   "source": [
    "train_data[\"Title\"] = train_data[\"Title\"].replace({\n",
    "    \"Capt\" : \"Military\",\n",
    "    \"Col\" : \"Military\",\n",
    "    \"Major\" : \"Military\",\n",
    "    \"Jonkheer\" : \"Noble\",\n",
    "    \"the Countess\" : \"Noble\",\n",
    "    \"Lady\" : \"Noble\",\n",
    "    \"Sir\" : \"Noble\",\n",
    "    \"Don\" : \"Noble\",\n",
    "    \"Mlle\" : \"Miss\",\n",
    "    \"Ms\" : \"Miss\",\n",
    "    \"Mme\" : \"Mrs\"\n",
    "})\n",
    "\n",
    "test_data[\"Title\"] = test_data[\"Title\"].replace({\n",
    "    \"Capt\" : \"Military\",\n",
    "    \"Col\" : \"Military\",\n",
    "    \"Major\" : \"Military\",\n",
    "    \"Jonkheer\" : \"Noble\",\n",
    "    \"the Countess\" : \"Noble\",\n",
    "    \"Lady\" : \"Noble\",\n",
    "    \"Sir\" : \"Noble\",\n",
    "    \"Don\" : \"Noble\",\n",
    "    \"Mlle\" : \"Miss\",\n",
    "    \"Ms\" : \"Miss\",\n",
    "    \"Mme\" : \"Mrs\"\n",
    "})"
   ]
  },
  {
   "cell_type": "code",
   "execution_count": 105,
   "id": "2c1b9812-d256-43c8-9895-513d2273d272",
   "metadata": {},
   "outputs": [
    {
     "data": {
      "image/png": "[encoded data removed]",
      "text/plain": [
       "<Figure size 1000x600 with 1 Axes>"
      ]
     },
     "metadata": {},
     "output_type": "display_data"
    }
   ],
   "source": [
    "import matplotlib.pyplot as plt\n",
    "import seaborn as sns\n",
    "\n",
    "# Set figure size\n",
    "plt.figure(figsize=(10, 6))\n",
    "\n",
    "# Create the bar plot\n",
    "ax = sns.barplot(data=train_data, x='Title', y='Survived', color=\"teal\")\n",
    "\n",
    "# Customize the plot\n",
    "plt.title('Survival Rate by Passenger Title', fontsize=12)\n",
    "plt.xlabel('Title')\n",
    "plt.ylabel('Survival Rate')\n",
    "plt.xticks(rotation=45)\n",
    "\n",
    "# Add gridlines\n",
    "plt.grid(axis='both', linestyle='--', linewidth=1.2, alpha=0.3, color='darkgray')\n",
    "\n",
    "# Adjust layout\n",
    "plt.tight_layout()\n",
    "\n",
    "# Display the plot\n",
    "plt.show()"
   ]
  },
  {
   "cell_type": "code",
   "execution_count": 106,
   "id": "bee371ef-224f-4d05-9908-f97770c277b2",
   "metadata": {},
   "outputs": [],
   "source": [
    "import pandas as pd\n",
    "\n",
    "def add_name_length(df, name_col=\"Name\"):\n",
    "    \"\"\"\n",
    "    Add a column with calculated name lengths to the DataFrame.\n",
    "    \n",
    "    Handles missing values by converting them to empty strings before calculation.\n",
    "    \n",
    "    Parameters:\n",
    "    -----------\n",
    "    df : pd.DataFrame\n",
    "        Input DataFrame containing the names column\n",
    "    name_col : str, optional (default=\"Name\")\n",
    "        Name of the column containing the names to measure\n",
    "        \n",
    "    Returns:\n",
    "    --------\n",
    "    pd.DataFrame\n",
    "        New DataFrame with additional 'Name_Length' column\n",
    "        \n",
    "    Raises:\n",
    "    -------\n",
    "    ValueError\n",
    "        If specified name column doesn't exist in DataFrame\n",
    "        \n",
    "    Example:\n",
    "    --------\n",
    "    >>> df = pd.DataFrame({\"Name\": [\"Alice\", \"Bob\", None]})\n",
    "    >>> add_name_length(df)\n",
    "         Name  Name_Length\n",
    "    0   Alice            5\n",
    "    1     Bob            3\n",
    "    2    None            0\n",
    "    \"\"\"\n",
    "    # Validate input column exists\n",
    "    if name_col not in df.columns:\n",
    "        available_cols = ', '.join(df.columns)\n",
    "        raise ValueError(\n",
    "            f\"Column '{name_col}' not found. Available columns: {available_cols}\"\n",
    "        )\n",
    "    \n",
    "    # Create safe copy to avoid modifying original DataFrame\n",
    "    result_df = df.copy()\n",
    "    \n",
    "    # Calculate name lengths with robust handling\n",
    "    result_df[\"Name_Length\"] = (\n",
    "        result_df[name_col]\n",
    "        .fillna(\"\")          # Handle missing values\n",
    "        .astype(str)         # Ensure string conversion\n",
    "        .str.len()           # Get string length\n",
    "    )\n",
    "    \n",
    "    return result_df"
   ]
  },
  {
   "cell_type": "code",
   "execution_count": 107,
   "id": "bcab2e2b-070f-4015-a947-2d221f74fafc",
   "metadata": {},
   "outputs": [],
   "source": [
    "train_data = add_name_length(train_data)\n",
    "test_data = add_name_length(test_data)"
   ]
  },
  {
   "cell_type": "code",
   "execution_count": 108,
   "id": "21a69179-fa3e-4c43-9d5e-987f904f6bcd",
   "metadata": {},
   "outputs": [
    {
     "data": {
      "text/plain": [
       "<seaborn.axisgrid.FacetGrid at 0x1b2c34774f0>"
      ]
     },
     "execution_count": 108,
     "metadata": {},
     "output_type": "execute_result"
    },
    {
     "data": {
      "image/png": "[encoded data removed]",
      "text/plain": [
       "<Figure size 1440x600 with 2 Axes>"
      ]
     },
     "metadata": {},
     "output_type": "display_data"
    }
   ],
   "source": [
    "sns.displot(\n",
    "    data=train_data,\n",
    "    x=\"Name_Length\",\n",
    "    col=\"Survived\",\n",
    "    binwidth=10,\n",
    "    height=6,\n",
    "    aspect=1.2,\n",
    "    # Add color and style elements\n",
    "    color=\"red\",\n",
    "    fill=True,\n",
    "    alpha=0.6,  # Some transparency\n",
    "    kde=True,  # Add kernel density estimate\n",
    ")"
   ]
  },
  {
   "cell_type": "code",
   "execution_count": 109,
   "id": "564c204e-bbf3-4d3a-9b94-cfe1ef797a9b",
   "metadata": {},
   "outputs": [],
   "source": [
    "train_data['Name_Length_G'] = pd.qcut(train_data['Name_Length'], \n",
    "                                q=4)\n",
    "test_data['Name_Length_G'] = pd.qcut(test_data['Name_Length'], \n",
    "                                q=4)"
   ]
  },
  {
   "cell_type": "code",
   "execution_count": 110,
   "id": "27db1a0f-5089-4134-9fc3-b34128f4ffa6",
   "metadata": {},
   "outputs": [
    {
     "data": {
      "text/html": [
       "<div>\n",
       "<style scoped>\n",
       "    .dataframe tbody tr th:only-of-type {\n",
       "        vertical-align: middle;\n",
       "    }\n",
       "\n",
       "    .dataframe tbody tr th {\n",
       "        vertical-align: top;\n",
       "    }\n",
       "\n",
       "    .dataframe thead th {\n",
       "        text-align: right;\n",
       "    }\n",
       "</style>\n",
       "<table border=\"1\" class=\"dataframe\">\n",
       "  <thead>\n",
       "    <tr style=\"text-align: right;\">\n",
       "      <th></th>\n",
       "      <th>Name_Length_G</th>\n",
       "      <th>Survivors_Count</th>\n",
       "      <th>Survival_Rate</th>\n",
       "    </tr>\n",
       "  </thead>\n",
       "  <tbody>\n",
       "    <tr>\n",
       "      <th>0</th>\n",
       "      <td>(11.999, 20.0]</td>\n",
       "      <td>243</td>\n",
       "      <td>0.230453</td>\n",
       "    </tr>\n",
       "    <tr>\n",
       "      <th>1</th>\n",
       "      <td>(20.0, 25.0]</td>\n",
       "      <td>215</td>\n",
       "      <td>0.325581</td>\n",
       "    </tr>\n",
       "    <tr>\n",
       "      <th>2</th>\n",
       "      <td>(25.0, 30.0]</td>\n",
       "      <td>211</td>\n",
       "      <td>0.364929</td>\n",
       "    </tr>\n",
       "    <tr>\n",
       "      <th>3</th>\n",
       "      <td>(30.0, 82.0]</td>\n",
       "      <td>222</td>\n",
       "      <td>0.626126</td>\n",
       "    </tr>\n",
       "  </tbody>\n",
       "</table>\n",
       "</div>"
      ],
      "text/plain": [
       "    Name_Length_G  Survivors_Count  Survival_Rate\n",
       "0  (11.999, 20.0]              243       0.230453\n",
       "1    (20.0, 25.0]              215       0.325581\n",
       "2    (25.0, 30.0]              211       0.364929\n",
       "3    (30.0, 82.0]              222       0.626126"
      ]
     },
     "execution_count": 110,
     "metadata": {},
     "output_type": "execute_result"
    }
   ],
   "source": [
    "Fare_col = (\n",
    "    train_data\n",
    "    .groupby('Name_Length_G', observed=False)['Survived']\n",
    "    .agg(Survivors_Count='count', Survival_Rate='mean')\n",
    "    .reset_index()\n",
    ")\n",
    "\n",
    "Fare_col"
   ]
  },
  {
   "cell_type": "code",
   "execution_count": 111,
   "id": "6e8e0e7a-bbe7-4bb6-b731-51ca4683b758",
   "metadata": {},
   "outputs": [],
   "source": [
    "train_data.loc[train_data[\"Name_Length\"] <= 20, \"Name_Length\"] = 1\n",
    "train_data.loc[(train_data[\"Name_Length\"] > 20) & (train_data[\"Name_Length\"] <= 25), \"Name_Length\"] = 2\n",
    "train_data.loc[(train_data[\"Name_Length\"] > 25) & (train_data[\"Name_Length\"] <= 30), \"Name_Length\"] = 3\n",
    "train_data.loc[(train_data[\"Name_Length\"] > 30) & (train_data[\"Name_Length\"] <= 82), \"Name_Length\"] = 4\n",
    "\n",
    "test_data.loc[test_data[\"Name_Length\"] <= 20, \"Name_Length\"] = 1\n",
    "test_data.loc[(test_data[\"Name_Length\"] > 20) & (test_data[\"Name_Length\"] <= 25), \"Name_Length\"] = 2\n",
    "test_data.loc[(test_data[\"Name_Length\"] > 25) & (test_data[\"Name_Length\"] <= 30), \"Name_Length\"] = 3\n",
    "test_data.loc[(test_data[\"Name_Length\"] > 30) & (test_data[\"Name_Length\"] <= 82), \"Name_Length\"] = 4"
   ]
  },
  {
   "cell_type": "code",
   "execution_count": 112,
   "id": "2808b938-90c7-4649-b65d-8b49921c8808",
   "metadata": {},
   "outputs": [
    {
     "data": {
      "text/plain": [
       "0           A/5 21171\n",
       "1            PC 17599\n",
       "2    STON/O2. 3101282\n",
       "Name: Ticket, dtype: object"
      ]
     },
     "execution_count": 112,
     "metadata": {},
     "output_type": "execute_result"
    }
   ],
   "source": [
    "train_data[\"Ticket\"][0:3]"
   ]
  },
  {
   "cell_type": "code",
   "execution_count": 113,
   "id": "1dc9f0da-3879-486d-b567-6531cc98bf9c",
   "metadata": {},
   "outputs": [],
   "source": [
    "def extract_ticket(df, ticket_col=\"Ticket\"):\n",
    "    \"\"\"\n",
    "    Extract numeric portion from ticket strings into new column.\n",
    "    \n",
    "    Handles missing values and complex ticket formats while preserving original data.\n",
    "    \n",
    "    Parameters:\n",
    "    -----------\n",
    "    df : DataFrame\n",
    "        Input DataFrame containing ticket information\n",
    "    ticket_col : str, optional (default=\"Ticket\")\n",
    "        Name of column containing ticket strings\n",
    "        \n",
    "    Returns:\n",
    "    --------\n",
    "    DataFrame\n",
    "        New DataFrame with additional 'Ticket_Number' column\n",
    "        \n",
    "    Raises:\n",
    "    -------\n",
    "    ValueError\n",
    "        If specified ticket column is missing\n",
    "        \n",
    "    Example:\n",
    "    --------\n",
    "    >>> df = pd.DataFrame({\"Ticket\": [\"PC 17599\", \"A/4 21171\", \"LINE 54321\", None]})\n",
    "    >>> extract_ticket_number(df)\n",
    "            Ticket Ticket_Number\n",
    "    0     PC 17599         17599\n",
    "    1    A/4 21171         21171\n",
    "    2  LINE 54321          54321\n",
    "    3         None           NaN\n",
    "    \"\"\"\n",
    "    # Validate ticket column exists\n",
    "    if ticket_col not in df.columns:\n",
    "        available = list(df.columns)\n",
    "        raise ValueError(f\"Missing '{ticket_col}' column. Available columns: {available}\")\n",
    "\n",
    "    # Create working copy to avoid side effects\n",
    "    processed_df = df.copy()\n",
    "    \n",
    "    # Extract numeric portion using vectorized operations\n",
    "    processed_df[\"Ticket_Number\"] = (\n",
    "        processed_df[ticket_col]\n",
    "        .astype(str)              # Convert all values to strings\n",
    "        .str.split()              # Split into components\n",
    "        .str[-1]                  # Get last component\n",
    "        .replace('nan', np.nan)   # Restore original missing values\n",
    "        .replace('', np.nan)      # Handle empty strings\n",
    "        .apply(pd.to_numeric, errors='coerce')  # Convert to numeric\n",
    "    )\n",
    "    \n",
    "    return processed_df"
   ]
  },
  {
   "cell_type": "code",
   "execution_count": 114,
   "id": "6c5fa124-dbb8-44f5-a9ab-d99bd0ef387f",
   "metadata": {},
   "outputs": [],
   "source": [
    "train_data = extract_ticket(train_data)\n",
    "test_data = extract_ticket(test_data)"
   ]
  },
  {
   "cell_type": "code",
   "execution_count": 115,
   "id": "93dc0898-a7b6-4421-beb6-aea190aab6f6",
   "metadata": {},
   "outputs": [
    {
     "data": {
      "text/plain": [
       "0      21171.0\n",
       "1      17599.0\n",
       "2    3101282.0\n",
       "Name: Ticket_Number, dtype: float64"
      ]
     },
     "execution_count": 115,
     "metadata": {},
     "output_type": "execute_result"
    }
   ],
   "source": [
    "train_data[\"Ticket_Number\"][0:3]"
   ]
  },
  {
   "cell_type": "code",
   "execution_count": 116,
   "id": "03244423-36b5-4d4f-b09f-188ef1fd9205",
   "metadata": {},
   "outputs": [],
   "source": [
    "def extract_ticket_number(df, ticket_col=\"Ticket_Number\"):\n",
    "    # Check if the specified ticket column exists\n",
    "    if ticket_col not in df.columns:\n",
    "        available = list(df.columns)\n",
    "        raise ValueError(f\"Missing '{ticket_col}' column. Available columns: {available}\")\n",
    "\n",
    "    # Create a working copy of the DataFrame to avoid side effects\n",
    "    processed_df = df.copy()\n",
    "\n",
    "    # Extract the number of digits before the decimal point and handle missing/invalid values\n",
    "    processed_df[\"Ticket_Number_Count\"] = (\n",
    "        processed_df[ticket_col]\n",
    "        .astype(str)               # Convert all values to strings\n",
    "        .str.split('.')            # Split by the decimal point\n",
    "        .str[0]                    # Get the part before the decimal point\n",
    "        .str.len()                 # Calculate the length (number of digits before the decimal)\n",
    "        .replace('nan', np.nan)    # Replace 'nan' string with np.nan\n",
    "        .replace('', np.nan)       # Replace empty string with np.nan\n",
    "        .apply(pd.to_numeric, errors='coerce')  # Convert to numeric, invalid values become NaN\n",
    "    )\n",
    "\n",
    "    # Return the processed DataFrame with the new column\n",
    "    return processed_df"
   ]
  },
  {
   "cell_type": "code",
   "execution_count": 117,
   "id": "28b108c5-f250-4e7f-b85e-6b87e2baf726",
   "metadata": {},
   "outputs": [],
   "source": [
    "train_data = extract_ticket_number(train_data)\n",
    "test_data = extract_ticket_number(test_data)"
   ]
  },
  {
   "cell_type": "code",
   "execution_count": 118,
   "id": "47eb3713-0f88-4e4a-8308-05deedb75bb5",
   "metadata": {},
   "outputs": [
    {
     "data": {
      "image/png": "[encoded data removed]",
      "text/plain": [
       "<Figure size 1000x600 with 1 Axes>"
      ]
     },
     "metadata": {},
     "output_type": "display_data"
    }
   ],
   "source": [
    "# Set figure size\n",
    "plt.figure(figsize=(10, 6))\n",
    "\n",
    "# Create the bar plot\n",
    "ax = sns.barplot(data=train_data, x='Ticket_Number_Count', y='Survived', color=\"teal\")\n",
    "\n",
    "# Customize the plot\n",
    "plt.title('#', fontsize=12)\n",
    "plt.xlabel('#')\n",
    "plt.ylabel('#')\n",
    "\n",
    "# Add gridlines\n",
    "plt.grid(axis='both', linestyle='--', linewidth=1.2, alpha=0.3, color='#FFDAB9')\n",
    "\n",
    "# Adjust layout\n",
    "plt.tight_layout()\n",
    "\n",
    "# Display the plot\n",
    "plt.show()"
   ]
  },
  {
   "cell_type": "code",
   "execution_count": 119,
   "id": "4a4d9e08-eb8b-4b35-98b9-68417335aeb4",
   "metadata": {},
   "outputs": [
    {
     "data": {
      "text/plain": [
       "0             A/5 21171\n",
       "1              PC 17599\n",
       "2      STON/O2. 3101282\n",
       "3                113803\n",
       "4                373450\n",
       "             ...       \n",
       "886              211536\n",
       "887              112053\n",
       "888          W./C. 6607\n",
       "889              111369\n",
       "890              370376\n",
       "Name: Ticket, Length: 891, dtype: object"
      ]
     },
     "execution_count": 119,
     "metadata": {},
     "output_type": "execute_result"
    }
   ],
   "source": [
    "train_data[\"Ticket\"]"
   ]
  },
  {
   "cell_type": "code",
   "execution_count": 120,
   "id": "70dfe14c-fde7-4af1-8352-3d0bed65c3a4",
   "metadata": {},
   "outputs": [],
   "source": [
    "train_data[\"Ticket_C\"] = train_data[\"Ticket\"].fillna(\"\").astype(str).str.len()"
   ]
  },
  {
   "cell_type": "code",
   "execution_count": 121,
   "id": "e98dbbb3-172c-480d-b653-c41789d4cf03",
   "metadata": {},
   "outputs": [
    {
     "data": {
      "text/html": [
       "<div>\n",
       "<style scoped>\n",
       "    .dataframe tbody tr th:only-of-type {\n",
       "        vertical-align: middle;\n",
       "    }\n",
       "\n",
       "    .dataframe tbody tr th {\n",
       "        vertical-align: top;\n",
       "    }\n",
       "\n",
       "    .dataframe thead th {\n",
       "        text-align: right;\n",
       "    }\n",
       "</style>\n",
       "<table border=\"1\" class=\"dataframe\">\n",
       "  <thead>\n",
       "    <tr style=\"text-align: right;\">\n",
       "      <th></th>\n",
       "      <th>Ticket_C</th>\n",
       "      <th>Survivors_Count</th>\n",
       "      <th>Survival_Rate</th>\n",
       "    </tr>\n",
       "  </thead>\n",
       "  <tbody>\n",
       "    <tr>\n",
       "      <th>0</th>\n",
       "      <td>3</td>\n",
       "      <td>2</td>\n",
       "      <td>0.000000</td>\n",
       "    </tr>\n",
       "    <tr>\n",
       "      <th>1</th>\n",
       "      <td>4</td>\n",
       "      <td>101</td>\n",
       "      <td>0.366337</td>\n",
       "    </tr>\n",
       "    <tr>\n",
       "      <th>2</th>\n",
       "      <td>5</td>\n",
       "      <td>131</td>\n",
       "      <td>0.618321</td>\n",
       "    </tr>\n",
       "    <tr>\n",
       "      <th>3</th>\n",
       "      <td>6</td>\n",
       "      <td>419</td>\n",
       "      <td>0.319809</td>\n",
       "    </tr>\n",
       "    <tr>\n",
       "      <th>4</th>\n",
       "      <td>7</td>\n",
       "      <td>27</td>\n",
       "      <td>0.296296</td>\n",
       "    </tr>\n",
       "    <tr>\n",
       "      <th>5</th>\n",
       "      <td>8</td>\n",
       "      <td>76</td>\n",
       "      <td>0.539474</td>\n",
       "    </tr>\n",
       "    <tr>\n",
       "      <th>6</th>\n",
       "      <td>9</td>\n",
       "      <td>26</td>\n",
       "      <td>0.192308</td>\n",
       "    </tr>\n",
       "    <tr>\n",
       "      <th>7</th>\n",
       "      <td>10</td>\n",
       "      <td>41</td>\n",
       "      <td>0.341463</td>\n",
       "    </tr>\n",
       "    <tr>\n",
       "      <th>8</th>\n",
       "      <td>11</td>\n",
       "      <td>8</td>\n",
       "      <td>0.250000</td>\n",
       "    </tr>\n",
       "    <tr>\n",
       "      <th>9</th>\n",
       "      <td>12</td>\n",
       "      <td>10</td>\n",
       "      <td>0.400000</td>\n",
       "    </tr>\n",
       "    <tr>\n",
       "      <th>10</th>\n",
       "      <td>13</td>\n",
       "      <td>10</td>\n",
       "      <td>0.400000</td>\n",
       "    </tr>\n",
       "    <tr>\n",
       "      <th>11</th>\n",
       "      <td>15</td>\n",
       "      <td>9</td>\n",
       "      <td>0.333333</td>\n",
       "    </tr>\n",
       "    <tr>\n",
       "      <th>12</th>\n",
       "      <td>16</td>\n",
       "      <td>11</td>\n",
       "      <td>0.272727</td>\n",
       "    </tr>\n",
       "    <tr>\n",
       "      <th>13</th>\n",
       "      <td>17</td>\n",
       "      <td>14</td>\n",
       "      <td>0.428571</td>\n",
       "    </tr>\n",
       "    <tr>\n",
       "      <th>14</th>\n",
       "      <td>18</td>\n",
       "      <td>6</td>\n",
       "      <td>0.000000</td>\n",
       "    </tr>\n",
       "  </tbody>\n",
       "</table>\n",
       "</div>"
      ],
      "text/plain": [
       "    Ticket_C  Survivors_Count  Survival_Rate\n",
       "0          3                2       0.000000\n",
       "1          4              101       0.366337\n",
       "2          5              131       0.618321\n",
       "3          6              419       0.319809\n",
       "4          7               27       0.296296\n",
       "5          8               76       0.539474\n",
       "6          9               26       0.192308\n",
       "7         10               41       0.341463\n",
       "8         11                8       0.250000\n",
       "9         12               10       0.400000\n",
       "10        13               10       0.400000\n",
       "11        15                9       0.333333\n",
       "12        16               11       0.272727\n",
       "13        17               14       0.428571\n",
       "14        18                6       0.000000"
      ]
     },
     "execution_count": 121,
     "metadata": {},
     "output_type": "execute_result"
    }
   ],
   "source": [
    "ticket_col = (\n",
    "    train_data\n",
    "    .groupby('Ticket_C', observed=False)['Survived']\n",
    "    .agg(Survivors_Count='count', Survival_Rate='mean')\n",
    "    .reset_index()\n",
    ")\n",
    "\n",
    "ticket_col"
   ]
  },
  {
   "cell_type": "code",
   "execution_count": 122,
   "id": "6a3eac65-85ce-4ce6-b30b-6ba3d583917b",
   "metadata": {},
   "outputs": [
    {
     "data": {
      "text/html": [
       "<div>\n",
       "<style scoped>\n",
       "    .dataframe tbody tr th:only-of-type {\n",
       "        vertical-align: middle;\n",
       "    }\n",
       "\n",
       "    .dataframe tbody tr th {\n",
       "        vertical-align: top;\n",
       "    }\n",
       "\n",
       "    .dataframe thead th {\n",
       "        text-align: right;\n",
       "    }\n",
       "</style>\n",
       "<table border=\"1\" class=\"dataframe\">\n",
       "  <thead>\n",
       "    <tr style=\"text-align: right;\">\n",
       "      <th></th>\n",
       "      <th>count</th>\n",
       "      <th>mean</th>\n",
       "    </tr>\n",
       "    <tr>\n",
       "      <th>Ticket_C</th>\n",
       "      <th></th>\n",
       "      <th></th>\n",
       "    </tr>\n",
       "  </thead>\n",
       "  <tbody>\n",
       "    <tr>\n",
       "      <th>3</th>\n",
       "      <td>2</td>\n",
       "      <td>0.000000</td>\n",
       "    </tr>\n",
       "    <tr>\n",
       "      <th>4</th>\n",
       "      <td>101</td>\n",
       "      <td>0.366337</td>\n",
       "    </tr>\n",
       "    <tr>\n",
       "      <th>5</th>\n",
       "      <td>131</td>\n",
       "      <td>0.618321</td>\n",
       "    </tr>\n",
       "    <tr>\n",
       "      <th>6</th>\n",
       "      <td>419</td>\n",
       "      <td>0.319809</td>\n",
       "    </tr>\n",
       "    <tr>\n",
       "      <th>7</th>\n",
       "      <td>27</td>\n",
       "      <td>0.296296</td>\n",
       "    </tr>\n",
       "    <tr>\n",
       "      <th>8</th>\n",
       "      <td>76</td>\n",
       "      <td>0.539474</td>\n",
       "    </tr>\n",
       "    <tr>\n",
       "      <th>9</th>\n",
       "      <td>26</td>\n",
       "      <td>0.192308</td>\n",
       "    </tr>\n",
       "    <tr>\n",
       "      <th>10</th>\n",
       "      <td>41</td>\n",
       "      <td>0.341463</td>\n",
       "    </tr>\n",
       "    <tr>\n",
       "      <th>11</th>\n",
       "      <td>8</td>\n",
       "      <td>0.250000</td>\n",
       "    </tr>\n",
       "    <tr>\n",
       "      <th>12</th>\n",
       "      <td>10</td>\n",
       "      <td>0.400000</td>\n",
       "    </tr>\n",
       "    <tr>\n",
       "      <th>13</th>\n",
       "      <td>10</td>\n",
       "      <td>0.400000</td>\n",
       "    </tr>\n",
       "    <tr>\n",
       "      <th>15</th>\n",
       "      <td>9</td>\n",
       "      <td>0.333333</td>\n",
       "    </tr>\n",
       "    <tr>\n",
       "      <th>16</th>\n",
       "      <td>11</td>\n",
       "      <td>0.272727</td>\n",
       "    </tr>\n",
       "    <tr>\n",
       "      <th>17</th>\n",
       "      <td>14</td>\n",
       "      <td>0.428571</td>\n",
       "    </tr>\n",
       "    <tr>\n",
       "      <th>18</th>\n",
       "      <td>6</td>\n",
       "      <td>0.000000</td>\n",
       "    </tr>\n",
       "  </tbody>\n",
       "</table>\n",
       "</div>"
      ],
      "text/plain": [
       "          count      mean\n",
       "Ticket_C                 \n",
       "3             2  0.000000\n",
       "4           101  0.366337\n",
       "5           131  0.618321\n",
       "6           419  0.319809\n",
       "7            27  0.296296\n",
       "8            76  0.539474\n",
       "9            26  0.192308\n",
       "10           41  0.341463\n",
       "11            8  0.250000\n",
       "12           10  0.400000\n",
       "13           10  0.400000\n",
       "15            9  0.333333\n",
       "16           11  0.272727\n",
       "17           14  0.428571\n",
       "18            6  0.000000"
      ]
     },
     "execution_count": 122,
     "metadata": {},
     "output_type": "execute_result"
    }
   ],
   "source": [
    "train_data.groupby('Ticket_C', observed=False)['Survived'].agg(['count', 'mean'])"
   ]
  },
  {
   "cell_type": "code",
   "execution_count": 160,
   "id": "88e61889-095c-46fa-b42c-08938d0b3135",
   "metadata": {},
   "outputs": [
    {
     "data": {
      "text/plain": [
       "array(['W.E.P. 5734', 'S.O.P. 1166', 'W./C. 14263', 'SC/AH 29037',\n",
       "       'S.O./P.P. 3'], dtype=object)"
      ]
     },
     "execution_count": 160,
     "metadata": {},
     "output_type": "execute_result"
    }
   ],
   "source": [
    "train_data[(train_data['Ticket'].apply(len) == 11) & (train_data[\"Survived\"] == 0)]['Ticket'].unique()"
   ]
  },
  {
   "cell_type": "code",
   "execution_count": 154,
   "id": "b435a2b4-340e-49f0-a68b-064e33c4edfe",
   "metadata": {},
   "outputs": [
    {
     "data": {
      "text/plain": [
       "array(['A/5 21171', 'A/5. 2151', 'S.P. 3464', 'C.A. 2315', 'A4. 54510',\n",
       "       'A/5. 3337', 'Fa 265302', 'A/5 21174', 'W/C 14208', 'A/5 21173',\n",
       "       'A/5. 3336', 'P/PP 3381', 'A/5 21172', 'A/4 45380', 'C.A. 6212',\n",
       "       'A/4 48871', 'WE/P 5735', 'C.A. 2673', 'C.A. 5547'], dtype=object)"
      ]
     },
     "execution_count": 154,
     "metadata": {},
     "output_type": "execute_result"
    }
   ],
   "source": [
    "train_data[(train_data['Ticket'].apply(len) == 9) & (train_data[\"Survived\"] == 0)]['Ticket'].unique()\n"
   ]
  },
  {
   "cell_type": "code",
   "execution_count": 145,
   "id": "b141c0d5-2494-4078-a9a5-9a7fc553d16a",
   "metadata": {},
   "outputs": [
    {
     "data": {
      "text/plain": [
       "array(['A/5 21171', 'A/5. 2151', 'S.P. 3464', 'C.A. 2315', 'A4. 54510',\n",
       "       'A/5. 3337', 'Fa 265302', 'A/5 21174', 'W/C 14208', 'SW/PP 751',\n",
       "       'A/5 21173', 'A/5. 3336', 'C.A. 2673', 'P/PP 3381', 'A/5 21172',\n",
       "       'A/4 45380', 'C.A. 6212', 'WE/P 5735', 'A/4 48871', 'C.A. 5547'],\n",
       "      dtype=object)"
      ]
     },
     "execution_count": 145,
     "metadata": {},
     "output_type": "execute_result"
    }
   ],
   "source": [
    "train_data[train_data['Ticket'].apply(len) == 9]['Ticket'].unique()"
   ]
  },
  {
   "cell_type": "code",
   "execution_count": 124,
   "id": "e772e0ff-6459-42e2-98d2-38db1a4877ac",
   "metadata": {},
   "outputs": [
    {
     "data": {
      "text/plain": [
       "array(['PC 17599', 'PC 17601', 'PC 17569', 'PC 17604', 'PC 17572',\n",
       "       'PC 17605', 'PC 17754', 'PC 17759', 'PC 17558', 'PC 17593',\n",
       "       'A/5. 851', 'PC 17597', 'CA. 2343', 'PC 17318', 'PC 17595',\n",
       "       'PC 17610', 'A/5 3540', 'PC 17585', 'PC 17755', 'PC 17582',\n",
       "       'PC 17760', 'PC 17596', 'PC 17612', 'A/5 2466', 'PC 17758',\n",
       "       'PC 17485', 'PC 17608', 'PC 17611', 'PC 17477', 'PC 17757',\n",
       "       'A/5 2817', 'A/S 2816', 'A/5 3594', 'PC 17609', 'PC 17473',\n",
       "       'PC 17603', 'PC 17483', 'PC 17761', 'PC 17474', 'A/5 3902',\n",
       "       'CA. 2314', 'A/5 3536', 'PC 17475', 'PC 17476', 'PC 17482',\n",
       "       'PC 17600', 'PC 17756', 'PC 17592', 'PC 17590'], dtype=object)"
      ]
     },
     "execution_count": 124,
     "metadata": {},
     "output_type": "execute_result"
    }
   ],
   "source": [
    "train_data[train_data['Ticket'].apply(len) == 8]['Ticket'].unique()"
   ]
  },
  {
   "cell_type": "code",
   "execution_count": 129,
   "id": "15df17a7-a77e-4e8c-afd6-78e50e53c3b3",
   "metadata": {},
   "outputs": [
    {
     "data": {
      "text/plain": [
       "array(['SOTON/O.Q. 3101307', 'SOTON/O.Q. 3101311', 'SOTON/O.Q. 3101310',\n",
       "       'SOTON/O.Q. 3101306', 'SOTON/O.Q. 3101305', 'SOTON/O.Q. 3101312'],\n",
       "      dtype=object)"
      ]
     },
     "execution_count": 129,
     "metadata": {},
     "output_type": "execute_result"
    }
   ],
   "source": [
    "train_data[train_data['Ticket'].apply(len) == 18]['Ticket'].unique()"
   ]
  },
  {
   "cell_type": "code",
   "execution_count": 126,
   "id": "37f1a69e-8ac1-4808-88e9-552ffb072b63",
   "metadata": {},
   "outputs": [
    {
     "data": {
      "text/plain": [
       "array(['A/5 21171', 'A/5. 2151', 'S.P. 3464', 'C.A. 2315', 'A4. 54510',\n",
       "       'A/5. 3337', 'Fa 265302', 'A/5 21174', 'W/C 14208', 'SW/PP 751',\n",
       "       'A/5 21173', 'A/5. 3336', 'C.A. 2673', 'P/PP 3381', 'A/5 21172',\n",
       "       'A/4 45380', 'C.A. 6212', 'WE/P 5735', 'A/4 48871', 'C.A. 5547'],\n",
       "      dtype=object)"
      ]
     },
     "execution_count": 126,
     "metadata": {},
     "output_type": "execute_result"
    }
   ],
   "source": [
    "train_data[train_data['Ticket'].apply(len) == 9]['Ticket'].unique()"
   ]
  },
  {
   "cell_type": "code",
   "execution_count": 131,
   "id": "ab3f63df-416c-4ee4-9ebc-b37101a9cd0b",
   "metadata": {},
   "outputs": [
    {
     "data": {
      "text/plain": [
       "array(['2649', '2631', '2677', '2651', '7546', '2662', '2926', '2697',\n",
       "       '2669', '2661', '2680', '1601', '7540', '2665', '4136', '2627',\n",
       "       '2668', '7534', '2678', '4133', 'LINE', '4579', '2628', '2699',\n",
       "       '2694', '2650', '2693', '9234', '7598', '7267', '2695', '2647',\n",
       "       '2691', '2626', '2648', '2653', '4137', '2003', '2666', '7553',\n",
       "       '3460', '4134', '4135', '2624', '2700', '2641', '2690', '2908',\n",
       "       '2620', '2686', '2689', '3411', '2664', '2659', '8475', '2623',\n",
       "       '5727', '4138', '6563', '2672', '7545', '2663', '8471', '2674',\n",
       "       '2687', '2685', '2625', '3474', '2671', '2223', '2683', '2629',\n",
       "       '2667', '7552'], dtype=object)"
      ]
     },
     "execution_count": 131,
     "metadata": {},
     "output_type": "execute_result"
    }
   ],
   "source": [
    "train_data[train_data['Ticket'].apply(len) == 4]['Ticket'].unique()"
   ]
  },
  {
   "cell_type": "code",
   "execution_count": 132,
   "id": "d2fe5a8f-a198-46e6-bb3f-53ad298e960c",
   "metadata": {},
   "outputs": [
    {
     "data": {
      "text/plain": [
       "array(['A/5 21171', 'A/5. 2151', 'S.P. 3464', 'C.A. 2315', 'A4. 54510',\n",
       "       'A/5. 3337', 'Fa 265302', 'A/5 21174', 'W/C 14208', 'SW/PP 751',\n",
       "       'A/5 21173', 'A/5. 3336', 'C.A. 2673', 'P/PP 3381', 'A/5 21172',\n",
       "       'A/4 45380', 'C.A. 6212', 'WE/P 5735', 'A/4 48871', 'C.A. 5547'],\n",
       "      dtype=object)"
      ]
     },
     "execution_count": 132,
     "metadata": {},
     "output_type": "execute_result"
    }
   ],
   "source": [
    "train_data[train_data['Ticket'].apply(len) == 9]['Ticket'].unique()"
   ]
  },
  {
   "cell_type": "code",
   "execution_count": 133,
   "id": "bd1a0cc2-4a25-499d-b4a5-e2446aeac6fc",
   "metadata": {},
   "outputs": [
    {
     "data": {
      "text/plain": [
       "array(['S.O.C. 14879', 'F.C.C. 13528', 'F.C.C. 13529', 'F.C.C. 13531'],\n",
       "      dtype=object)"
      ]
     },
     "execution_count": 133,
     "metadata": {},
     "output_type": "execute_result"
    }
   ],
   "source": [
    "train_data[train_data['Ticket'].apply(len) == 12]['Ticket'].unique()"
   ]
  },
  {
   "cell_type": "code",
   "execution_count": 134,
   "id": "767a34f3-6655-4402-939f-d1848658a5cc",
   "metadata": {},
   "outputs": [
    {
     "data": {
      "text/plain": [
       "array(['SC/Paris 2123', 'SC/PARIS 2133', 'SC/PARIS 2131', 'SC/Paris 2163',\n",
       "       'SC/PARIS 2167', 'SC/PARIS 2146', 'S.O./P.P. 751', 'SC/PARIS 2149'],\n",
       "      dtype=object)"
      ]
     },
     "execution_count": 134,
     "metadata": {},
     "output_type": "execute_result"
    }
   ],
   "source": [
    "train_data[train_data['Ticket'].apply(len) == 13]['Ticket'].unique()"
   ]
  },
  {
   "cell_type": "code",
   "execution_count": 136,
   "id": "5be6536f-128b-4238-89f2-bcf382be5673",
   "metadata": {},
   "outputs": [
    {
     "data": {
      "text/plain": [
       "array(['2649', '2631', '2677', '2651', '7546', '2662', '2926', '2697',\n",
       "       '2669', '2661', '2680', '1601', '7540', '2665', '4136', '2627',\n",
       "       '2668', '7534', '2678', '4133', 'LINE', '4579', '2628', '2699',\n",
       "       '2694', '2650', '2693', '9234', '7598', '7267', '2695', '2647',\n",
       "       '2691', '2626', '2648', '2653', '4137', '2003', '2666', '7553',\n",
       "       '3460', '4134', '4135', '2624', '2700', '2641', '2690', '2908',\n",
       "       '2620', '2686', '2689', '3411', '2664', '2659', '8475', '2623',\n",
       "       '5727', '4138', '6563', '2672', '7545', '2663', '8471', '2674',\n",
       "       '2687', '2685', '2625', '3474', '2671', '2223', '2683', '2629',\n",
       "       '2667', '7552'], dtype=object)"
      ]
     },
     "execution_count": 136,
     "metadata": {},
     "output_type": "execute_result"
    }
   ],
   "source": [
    "train_data[train_data['Ticket'].apply(len) == 4]['Ticket'].unique()"
   ]
  },
  {
   "cell_type": "code",
   "execution_count": 135,
   "id": "ba196dda-121d-4b5e-b5a9-0df08ea3366c",
   "metadata": {},
   "outputs": [],
   "source": [
    "## Gruba ayrılacak \n",
    "## Sadece 5  num olan 1.\n",
    "## PC , CA., A/S  1.\n",
    "## 6 num ve C 4 num 3.\n",
    "## 3num,  A/5, A/4, C.A., S.P. , WE/P , W/C, Fa, SOTON/O.Q   A4. 3.\n",
    "## \n",
    "## 4 num ve LINE 2.\n",
    "## "
   ]
  },
  {
   "cell_type": "code",
   "execution_count": null,
   "id": "14f920d4-d0f6-4638-b75e-662d72690bf1",
   "metadata": {},
   "outputs": [],
   "source": [
    "['W.E.P. 5734', 'S.O.P. 1166', 'W./C. 14263', 'W./C. 14258',\n",
    "       'S.W./PP 752', 'SC/AH 29037', 'S.O./P.P. 3'],\n",
    "\n",
    "\n",
    "A/5 21171', 'A/5. 2151', 'S.P. 3464', 'C.A. 2315', 'A4. 54510',\n",
    "       'A/5. 3337', 'Fa 265302', 'A/5 21174', 'W/C 14208', 'SW/PP 751',\n",
    "       'A/5 21173', 'A/5. 3336', 'C.A. 2673', 'P/PP 3381', 'A/5 21172',\n",
    "       'A/4 45380', 'C.A. 6212', 'WE/P 5735', 'A/4 48871', 'C.A. 5547'"
   ]
  },
  {
   "cell_type": "code",
   "execution_count": null,
   "id": "e73d4945-24d6-4fc4-b69c-8f572697a59b",
   "metadata": {},
   "outputs": [],
   "source": [
    "array(['A/5 21171', 'A/5. 2151', 'S.P. 3464', 'C.A. 2315', 'A4. 54510',\n",
    "       'A/5. 3337', 'Fa 265302', 'A/5 21174', 'W/C 14208', 'A/5 21173',\n",
    "       'A/5. 3336', 'P/PP 3381', 'A/5 21172', 'A/4 45380', 'C.A. 6212',\n",
    "       'A/4 48871', 'WE/P 5735', 'C.A. 2673', 'C.A. 5547'], dtype=object)"
   ]
  },
  {
   "cell_type": "code",
   "execution_count": 161,
   "id": "ad7f47e4-d6cd-4c15-a67e-76fef8a8b7ad",
   "metadata": {},
   "outputs": [
    {
     "ename": "SyntaxError",
     "evalue": "cannot assign to literal (610377133.py, line 1)",
     "output_type": "error",
     "traceback": [
      "\u001b[1;36m  Cell \u001b[1;32mIn[161], line 1\u001b[1;36m\u001b[0m\n\u001b[1;33m    ['W.E.P. 5734', 'S.O.P. 1166', 'W./C. 14263', 'SC/AH 29037',\u001b[0m\n\u001b[1;37m     ^\u001b[0m\n\u001b[1;31mSyntaxError\u001b[0m\u001b[1;31m:\u001b[0m cannot assign to literal\n"
     ]
    }
   ],
   "source": [
    "['W.E.P. 5734', 'S.O.P. 1166', 'W./C. 14263', 'SC/AH 29037',\n",
    "       'S.O./P.P. 3'], dtype=object)  ## Bu da 3. sınıf"
   ]
  },
  {
   "cell_type": "code",
   "execution_count": null,
   "id": "9c82dd46-f8e3-486b-b0ea-cc08837dcdbc",
   "metadata": {},
   "outputs": [],
   "source": []
  }
 ],
 "metadata": {
  "kernelspec": {
   "display_name": "Python 3 (ipykernel)",
   "language": "python",
   "name": "python3"
  },
  "language_info": {
   "codemirror_mode": {
    "name": "ipython",
    "version": 3
   },
   "file_extension": ".py",
   "mimetype": "text/x-python",
   "name": "python",
   "nbconvert_exporter": "python",
   "pygments_lexer": "ipython3",
   "version": "3.9.20"
  }
 },
 "nbformat": 4,
 "nbformat_minor": 5
}
